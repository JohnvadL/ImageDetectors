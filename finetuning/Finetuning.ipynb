{
  "nbformat": 4,
  "nbformat_minor": 0,
  "metadata": {
    "colab": {
      "name": "Finetuning.ipynb",
      "provenance": [],
      "toc_visible": true
    },
    "kernelspec": {
      "name": "python3",
      "display_name": "Python 3"
    },
    "accelerator": "GPU",
    "widgets": {
      "application/vnd.jupyter.widget-state+json": {
        "73c1763f80e24df18890394b5b865e70": {
          "model_module": "@jupyter-widgets/controls",
          "model_name": "HBoxModel",
          "state": {
            "_view_name": "HBoxView",
            "_dom_classes": [],
            "_model_name": "HBoxModel",
            "_view_module": "@jupyter-widgets/controls",
            "_model_module_version": "1.5.0",
            "_view_count": null,
            "_view_module_version": "1.5.0",
            "box_style": "",
            "layout": "IPY_MODEL_004307fa1d794a0f9b76c2bbe48c421e",
            "_model_module": "@jupyter-widgets/controls",
            "children": [
              "IPY_MODEL_babdeddcb1344f1b9ee5750040ea67e8",
              "IPY_MODEL_cae65170bad34a2e91d90b8de1772802"
            ]
          }
        },
        "004307fa1d794a0f9b76c2bbe48c421e": {
          "model_module": "@jupyter-widgets/base",
          "model_name": "LayoutModel",
          "state": {
            "_view_name": "LayoutView",
            "grid_template_rows": null,
            "right": null,
            "justify_content": null,
            "_view_module": "@jupyter-widgets/base",
            "overflow": null,
            "_model_module_version": "1.2.0",
            "_view_count": null,
            "flex_flow": null,
            "width": null,
            "min_width": null,
            "border": null,
            "align_items": null,
            "bottom": null,
            "_model_module": "@jupyter-widgets/base",
            "top": null,
            "grid_column": null,
            "overflow_y": null,
            "overflow_x": null,
            "grid_auto_flow": null,
            "grid_area": null,
            "grid_template_columns": null,
            "flex": null,
            "_model_name": "LayoutModel",
            "justify_items": null,
            "grid_row": null,
            "max_height": null,
            "align_content": null,
            "visibility": null,
            "align_self": null,
            "height": null,
            "min_height": null,
            "padding": null,
            "grid_auto_rows": null,
            "grid_gap": null,
            "max_width": null,
            "order": null,
            "_view_module_version": "1.2.0",
            "grid_template_areas": null,
            "object_position": null,
            "object_fit": null,
            "grid_auto_columns": null,
            "margin": null,
            "display": null,
            "left": null
          }
        },
        "babdeddcb1344f1b9ee5750040ea67e8": {
          "model_module": "@jupyter-widgets/controls",
          "model_name": "FloatProgressModel",
          "state": {
            "_view_name": "ProgressView",
            "style": "IPY_MODEL_ff8bbfb82ad24cff8c8641919275244e",
            "_dom_classes": [],
            "description": "100%",
            "_model_name": "FloatProgressModel",
            "bar_style": "success",
            "max": 46827520,
            "_view_module": "@jupyter-widgets/controls",
            "_model_module_version": "1.5.0",
            "value": 46827520,
            "_view_count": null,
            "_view_module_version": "1.5.0",
            "orientation": "horizontal",
            "min": 0,
            "description_tooltip": null,
            "_model_module": "@jupyter-widgets/controls",
            "layout": "IPY_MODEL_17673e4c6bfc427a8fee197b975162d2"
          }
        },
        "cae65170bad34a2e91d90b8de1772802": {
          "model_module": "@jupyter-widgets/controls",
          "model_name": "HTMLModel",
          "state": {
            "_view_name": "HTMLView",
            "style": "IPY_MODEL_37881bb70bf84594ac6814f66824e002",
            "_dom_classes": [],
            "description": "",
            "_model_name": "HTMLModel",
            "placeholder": "​",
            "_view_module": "@jupyter-widgets/controls",
            "_model_module_version": "1.5.0",
            "value": " 44.7M/44.7M [00:00&lt;00:00, 176MB/s]",
            "_view_count": null,
            "_view_module_version": "1.5.0",
            "description_tooltip": null,
            "_model_module": "@jupyter-widgets/controls",
            "layout": "IPY_MODEL_7d1341b07e8a4ee8be27a2653bb36ba1"
          }
        },
        "ff8bbfb82ad24cff8c8641919275244e": {
          "model_module": "@jupyter-widgets/controls",
          "model_name": "ProgressStyleModel",
          "state": {
            "_view_name": "StyleView",
            "_model_name": "ProgressStyleModel",
            "description_width": "initial",
            "_view_module": "@jupyter-widgets/base",
            "_model_module_version": "1.5.0",
            "_view_count": null,
            "_view_module_version": "1.2.0",
            "bar_color": null,
            "_model_module": "@jupyter-widgets/controls"
          }
        },
        "17673e4c6bfc427a8fee197b975162d2": {
          "model_module": "@jupyter-widgets/base",
          "model_name": "LayoutModel",
          "state": {
            "_view_name": "LayoutView",
            "grid_template_rows": null,
            "right": null,
            "justify_content": null,
            "_view_module": "@jupyter-widgets/base",
            "overflow": null,
            "_model_module_version": "1.2.0",
            "_view_count": null,
            "flex_flow": null,
            "width": null,
            "min_width": null,
            "border": null,
            "align_items": null,
            "bottom": null,
            "_model_module": "@jupyter-widgets/base",
            "top": null,
            "grid_column": null,
            "overflow_y": null,
            "overflow_x": null,
            "grid_auto_flow": null,
            "grid_area": null,
            "grid_template_columns": null,
            "flex": null,
            "_model_name": "LayoutModel",
            "justify_items": null,
            "grid_row": null,
            "max_height": null,
            "align_content": null,
            "visibility": null,
            "align_self": null,
            "height": null,
            "min_height": null,
            "padding": null,
            "grid_auto_rows": null,
            "grid_gap": null,
            "max_width": null,
            "order": null,
            "_view_module_version": "1.2.0",
            "grid_template_areas": null,
            "object_position": null,
            "object_fit": null,
            "grid_auto_columns": null,
            "margin": null,
            "display": null,
            "left": null
          }
        },
        "37881bb70bf84594ac6814f66824e002": {
          "model_module": "@jupyter-widgets/controls",
          "model_name": "DescriptionStyleModel",
          "state": {
            "_view_name": "StyleView",
            "_model_name": "DescriptionStyleModel",
            "description_width": "",
            "_view_module": "@jupyter-widgets/base",
            "_model_module_version": "1.5.0",
            "_view_count": null,
            "_view_module_version": "1.2.0",
            "_model_module": "@jupyter-widgets/controls"
          }
        },
        "7d1341b07e8a4ee8be27a2653bb36ba1": {
          "model_module": "@jupyter-widgets/base",
          "model_name": "LayoutModel",
          "state": {
            "_view_name": "LayoutView",
            "grid_template_rows": null,
            "right": null,
            "justify_content": null,
            "_view_module": "@jupyter-widgets/base",
            "overflow": null,
            "_model_module_version": "1.2.0",
            "_view_count": null,
            "flex_flow": null,
            "width": null,
            "min_width": null,
            "border": null,
            "align_items": null,
            "bottom": null,
            "_model_module": "@jupyter-widgets/base",
            "top": null,
            "grid_column": null,
            "overflow_y": null,
            "overflow_x": null,
            "grid_auto_flow": null,
            "grid_area": null,
            "grid_template_columns": null,
            "flex": null,
            "_model_name": "LayoutModel",
            "justify_items": null,
            "grid_row": null,
            "max_height": null,
            "align_content": null,
            "visibility": null,
            "align_self": null,
            "height": null,
            "min_height": null,
            "padding": null,
            "grid_auto_rows": null,
            "grid_gap": null,
            "max_width": null,
            "order": null,
            "_view_module_version": "1.2.0",
            "grid_template_areas": null,
            "object_position": null,
            "object_fit": null,
            "grid_auto_columns": null,
            "margin": null,
            "display": null,
            "left": null
          }
        }
      }
    }
  },
  "cells": [
    {
      "cell_type": "code",
      "metadata": {
        "id": "yF7uczVVAo6X"
      },
      "source": [
        "import os\n",
        "import sys\n",
        "from google.colab import drive\n",
        "from google.colab.patches import cv2_imshow\n",
        "import matplotlib.pyplot as plt\n",
        "import numpy as np\n",
        "import cv2\n",
        "import pandas as pd\n",
        "import dlib\n",
        "from scipy import ndimage\n",
        "import tarfile\n",
        "from PIL import Image\n",
        "import torch\n",
        "from torch.utils.data import Dataset, DataLoader\n",
        "import torch.nn as nn\n",
        "import torch.nn.functional as F\n",
        "import torch.optim as optim\n",
        "import torchvision"
      ],
      "execution_count": 1,
      "outputs": []
    },
    {
      "cell_type": "code",
      "metadata": {
        "colab": {
          "base_uri": "https://localhost:8080/"
        },
        "id": "V9gzJRZICnc5",
        "outputId": "2d285516-8202-454e-8da8-d44f768829fb"
      },
      "source": [
        "from google.colab import drive\n",
        "drive.mount('/content/drive')"
      ],
      "execution_count": 2,
      "outputs": [
        {
          "output_type": "stream",
          "text": [
            "Mounted at /content/drive\n"
          ],
          "name": "stdout"
        }
      ]
    },
    {
      "cell_type": "code",
      "metadata": {
        "colab": {
          "base_uri": "https://localhost:8080/"
        },
        "id": "0MndTlmgI6lG",
        "outputId": "c37b9826-124b-45e2-a46d-add22a64450e"
      },
      "source": [
        "%mkdir -p /content/data/\n",
        "%cd /content/data\n",
        "\n",
        "train_path = '/content/drive/My Drive/training/training.tar'\n",
        "val_path = '/content/drive/My Drive/training/validation.tar'\n",
        "test_path = '/content/drive/My Drive/training/test.tar'\n",
        "train_full_path = '/content/drive/My Drive/training/train_full.tar'\n",
        "val_full_path = '/content/drive/My Drive/training/val_full.tar'\n",
        "\n",
        "# Load training set, validation set and test set\n",
        "for fpath in [train_full_path, val_full_path, test_path]:\n",
        "  print('Extracting {}...'.format(fpath.split('/')[-1]))\n",
        "  with tarfile.open(fpath) as tar:\n",
        "    tar.extractall()"
      ],
      "execution_count": 3,
      "outputs": [
        {
          "output_type": "stream",
          "text": [
            "/content/data\n",
            "Extracting train_full.tar...\n",
            "Extracting val_full.tar...\n",
            "Extracting test.tar...\n"
          ],
          "name": "stdout"
        }
      ]
    },
    {
      "cell_type": "markdown",
      "metadata": {
        "id": "2oYqWgOlYyo_"
      },
      "source": [
        "## **Image Preprocessing**"
      ]
    },
    {
      "cell_type": "code",
      "metadata": {
        "id": "FSTUdbf0DR47"
      },
      "source": [
        "import os\n",
        "\n",
        "import cv2\n",
        "import dlib\n",
        "import numpy as np\n",
        "from PIL import Image\n",
        "\n",
        "\n",
        "class align_faces(object):\n",
        "\n",
        "    def __call__(self, image):\n",
        "\n",
        "        # Since the images are loaded it PIL\n",
        "        image = np.asarray(image)\n",
        "\n",
        "        # The percentage value of how far in the picture the left eye should be\n",
        "        LEFT_EYE_CORD = (0.25, 0.2)\n",
        "        DIMENSIONS = 244\n",
        "\n",
        "        train_folder = '/content/drive/My Drive/training/'\n",
        "        predictor_path = os.path.join(train_folder, \"shape_predictor_5_face_landmarks.dat\")\n",
        "        detector_path = os.path.join(train_folder, \"mmod_human_face_detector.dat\")\n",
        "        shape_predictor = dlib.shape_predictor(predictor_path)\n",
        "        face_detector = dlib.get_frontal_face_detector()\n",
        "\n",
        "        # changed here for efficiency\n",
        "        # face_detector = dlib.cnn_face_detection_model_v1(detector_path)\n",
        "        faces = face_detector(image)\n",
        "\n",
        "        if not faces:\n",
        "            raise ValueError(\"Image has no detectable faces\")\n",
        "\n",
        "        # assumption is made that there is only one\n",
        "        for face in faces:\n",
        "          # face = face_rect.rect\n",
        "          landmarks = shape_predictor(image, face)\n",
        "          landmarks = landmarks.parts()\n",
        "          landmarks = self.convert_to_np(landmarks)\n",
        "\n",
        "          # To Gauge Scale\n",
        "          maximum = np.max(landmarks, axis=0)\n",
        "          minimum = np.min(landmarks, axis=0)\n",
        "\n",
        "          # eye landmarks\n",
        "          right = landmarks[:2]\n",
        "          left = landmarks[2:4]\n",
        "\n",
        "          left = np.mean(left, axis=0, dtype=np.int)\n",
        "          right = np.mean(right, axis=0, dtype=np.int)\n",
        "\n",
        "          centre = np.vstack((left, right))\n",
        "          centre = np.mean(centre, axis=0, dtype=np.int)\n",
        "\n",
        "          diff = right - left\n",
        "          diff = diff.reshape((2, 1))\n",
        "\n",
        "          angle = np.degrees(np.arctan2(diff[1], diff[0]))\n",
        "\n",
        "          # find the length of the face, and use that for our scale\n",
        "          y_scale = maximum[1] - minimum[1]\n",
        "          y_scale = y_scale + 2.1 * y_scale\n",
        "\n",
        "          M = cv2.getRotationMatrix2D((centre[0], centre[1]), angle, DIMENSIONS / y_scale)\n",
        "\n",
        "          # update translation\n",
        "          t_x = DIMENSIONS // 2\n",
        "          t_y = DIMENSIONS * LEFT_EYE_CORD[1]\n",
        "          M[0, 2] += (t_x - centre[0])\n",
        "          M[1, 2] += (t_y - centre[1])\n",
        "\n",
        "          image2 = cv2.warpAffine(image, M, (DIMENSIONS, DIMENSIONS),\n",
        "                                  flags=cv2.INTER_CUBIC)\n",
        "\n",
        "          # convert back to PIL\n",
        "          return Image.fromarray(image2)\n",
        "\n",
        "    @staticmethod\n",
        "    def convert_to_np(points):\n",
        "        np_points = np.array([], dtype=np.int)\n",
        "        while points:\n",
        "            point = points.pop()\n",
        "            np_points = np.append(np_points, (point.x, point.y))\n",
        "\n",
        "        np_points = np_points.reshape((-1, 2))\n",
        "        np_points = np.flip(np_points, axis=0)\n",
        "        return np_points"
      ],
      "execution_count": 4,
      "outputs": []
    },
    {
      "cell_type": "code",
      "metadata": {
        "id": "VYTxdiBcZFNU"
      },
      "source": [
        "transform = torchvision.transforms.Compose(\n",
        "    [torchvision.transforms.Grayscale(num_output_channels=3), \n",
        "     align_faces(),\n",
        "     torchvision.transforms.ToTensor(),\n",
        "     torchvision.transforms.Normalize((0.3898, 0.3884, 0.3878), (0.2433, 0.2430, 0.2430))\n",
        "     ]\n",
        ")"
      ],
      "execution_count": 5,
      "outputs": []
    },
    {
      "cell_type": "markdown",
      "metadata": {
        "id": "kxeiZUHuY3w5"
      },
      "source": [
        "## **Dataset Creation**"
      ]
    },
    {
      "cell_type": "code",
      "metadata": {
        "id": "WVcwvecULX-W"
      },
      "source": [
        "class AUDataset(Dataset):\n",
        "  \"\"\" CK+ dataset labeled by the presence of action units (AU) \"\"\"\n",
        "  \n",
        "  def __init__(self, mode='train', fold=0, transform=None):\n",
        "    \"\"\"\n",
        "    Args:\n",
        "      - label_csv: Path to the csv file with action unit labels.\n",
        "      - mode: one of 'train', 'validate', and 'test'\n",
        "      - fold: one of 0, 1, and 2; determines which folds to use for training\n",
        "      - transform: transform applied to an image input\n",
        "    \"\"\"\n",
        "    try:\n",
        "      path_dict = {\n",
        "          'train': 'training/train_data_',\n",
        "          'validate': 'validation/valid_data_',\n",
        "          'test': 'test/test_data',\n",
        "          'train_full': 'train_full/train_full_data',\n",
        "          'validate_full': 'val_full/val_full_data'\n",
        "      }\n",
        "      fold = fold if ((mode == 'train') or (mode == 'validate')) else ''\n",
        "      self.data_path = '{}{}'.format(path_dict[mode], fold)\n",
        "      self.label_path = '{}{}_labels.csv'.format(path_dict[mode], fold)\n",
        "    except KeyError:\n",
        "      raise ValueError('{} is not a valid mode. Choose train, validation, or test.'.format(mode))\n",
        "    self.au_frame = pd.read_csv(self.label_path)\n",
        "    self.label_cols = ['AU_1', 'AU_2', 'AU_4', 'AU_5', 'AU_6', 'AU_7', \n",
        "                        'AU_9', 'AU_10', 'AU_12', 'AU_14', 'AU_15', 'AU_17',\n",
        "                        'AU_20', 'AU_23/24', 'AU_25', 'AU_26/27', 'AU_28',\n",
        "                        'AU_43']\n",
        "    self.transform = transform\n",
        "    \n",
        "\n",
        "  def __len__(self):\n",
        "    return len(self.au_frame)\n",
        "\n",
        "  def __getitem__(self, idx):\n",
        "    # Get image at idx\n",
        "    image_id = self.au_frame.iloc[idx]['path']\n",
        "    image_path = self.data_path + '/' + image_id\n",
        "    image = cv2.imread(image_path)\n",
        "    try:\n",
        "      image = Image.fromarray(image)\n",
        "    except AttributeError:\n",
        "      raise ValueError('{} not found'.format(image_path))\n",
        "\n",
        "    # Get AU labels\n",
        "    aus = self.au_frame.iloc[idx][self.label_cols]\n",
        "    aus = np.array(aus, dtype=float)\n",
        "\n",
        "    if self.transform:\n",
        "      try:\n",
        "        image = self.transform(image)\n",
        "      except ValueError: # No faces were detected\n",
        "        return None\n",
        "\n",
        "    sample = {'image': image, 'labels': aus}\n",
        "\n",
        "    return sample"
      ],
      "execution_count": 6,
      "outputs": []
    },
    {
      "cell_type": "markdown",
      "metadata": {
        "id": "Wbw5INxOZBN2"
      },
      "source": [
        "## **Other Useful Functions**"
      ]
    },
    {
      "cell_type": "code",
      "metadata": {
        "id": "KAv2Ad3_Ye_H"
      },
      "source": [
        "def collate_fn(batch):\n",
        "    \"\"\"\n",
        "    Used to process the list of samples to form a batch. Ignores images\n",
        "    where no faces were detected.\n",
        "    \"\"\"\n",
        "    batch = list(filter(lambda x: x is not None, batch))\n",
        "    return torch.utils.data.dataloader.default_collate(batch)\n",
        "\n",
        "def imshow(img):\n",
        "    img = img / 2 + 0.5  # unnormalize\n",
        "    npimg = img.numpy()\n",
        "    plt.imshow(np.transpose(npimg, (1, 2, 0)), cmap=\"gray\")\n",
        "    plt.show()"
      ],
      "execution_count": 7,
      "outputs": []
    },
    {
      "cell_type": "markdown",
      "metadata": {
        "id": "iwk6808wgGA9"
      },
      "source": [
        "## **Scoring Metrics**"
      ]
    },
    {
      "cell_type": "code",
      "metadata": {
        "id": "wAJSRvxerYcG"
      },
      "source": [
        "from sklearn.metrics import f1_score, precision_score, recall_score, auc, precision_recall_curve\n",
        "\n",
        "def get_metrics(model, data):\n",
        "  \"\"\"\n",
        "  Compute the f1 score for each action unit (AU).\n",
        "  \"\"\"\n",
        "  labels = np.array([], dtype=int).reshape(0,18)\n",
        "  preds = np.array([], dtype=int).reshape(0,18)\n",
        "  model.eval() # Set to evaluation mode\n",
        "  device = torch.device(\"cuda:0\" if torch.cuda.is_available() else \"cpu\")\n",
        "  model.to(device)\n",
        "\n",
        "  with torch.no_grad():\n",
        "    for _, item in enumerate(data, 0):\n",
        "      batch_labels = item.get(\"labels\")\n",
        "      labels = np.vstack([labels, batch_labels])\n",
        "      imgs = item.get(\"image\")\n",
        "      imgs = imgs.to(device)\n",
        "      outputs = model(imgs).cpu().detach()\n",
        "      outputs = torch.sigmoid(outputs).numpy()\n",
        "      preds = np.vstack([preds, outputs])\n",
        "  \n",
        "  # Compute f1 scores\n",
        "  f1_scores = []\n",
        "  pres_scores = []\n",
        "  recall_scores = []\n",
        "  pr_auc_scores = []\n",
        "  for au in range(18):\n",
        "    au_labels = labels[:, au]\n",
        "    au_preds = preds[:, au]\n",
        "    p, r, _ = precision_recall_curve(au_labels, au_preds)\n",
        "    auc_pr = auc(r, p)\n",
        "    if np.isnan(auc_pr):\n",
        "      auc_pr = 0\n",
        "    pr_auc_scores.append(auc_pr)\n",
        "\n",
        "\n",
        "    # Threshold probabilities > 0.4 to 1 for other metrics\n",
        "    if au == 17:\n",
        "      au_preds = (au_preds > 0.05) * 1\n",
        "    else:\n",
        "      au_preds = (au_preds > 0.4) * 1\n",
        "    f1 = f1_score(au_labels, au_preds, zero_division=0); f1_scores.append(f1)\n",
        "    precision = precision_score(au_labels, au_preds, zero_division=0)\n",
        "    pres_scores.append(precision)\n",
        "    recall = recall_score(au_labels, au_preds, zero_division=0)\n",
        "    recall_scores.append(recall)\n",
        "  return pres_scores, recall_scores, f1_scores, pr_auc_scores\n"
      ],
      "execution_count": 8,
      "outputs": []
    },
    {
      "cell_type": "markdown",
      "metadata": {
        "id": "BqI4yQZAhZS3"
      },
      "source": [
        "## **Final Model Training**"
      ]
    },
    {
      "cell_type": "code",
      "metadata": {
        "id": "pqBh08uc--JO"
      },
      "source": [
        "import copy\n",
        "import time\n",
        "\n",
        "import torchvision\n",
        "from scipy.io.idl import AttrDict\n",
        "from torchvision import datasets, models, transforms\n",
        "from torch.utils.data import Dataset, DataLoader\n",
        "import torch\n",
        "import numpy as np\n",
        "\n",
        "\n",
        "def validation_step(convnet, val_loader, criterion, bs):\n",
        "  num_matches = 0.0\n",
        "  total = 0.0\n",
        "  losses = []\n",
        "  device = torch.device(\"cuda:0\" if torch.cuda.is_available() else \"cpu\")\n",
        "\n",
        "  with torch.no_grad():\n",
        "      for _, item in enumerate(val_loader, 0):\n",
        "\n",
        "          labels = item.get(\"labels\")\n",
        "          imgs = item.get(\"image\")\n",
        "          labels = labels.to(device)\n",
        "          imgs = imgs.to(device)\n",
        "\n",
        "          outputs = convnet(imgs)\n",
        "\n",
        "          # Compute batch loss\n",
        "          val_loss = criterion(outputs, labels)\n",
        "          losses.append(val_loss.data.item())\n",
        "\n",
        "          # Compute batch accuracy, set probabilities > 0.5 to 1\n",
        "          t = torch.Tensor([0.5])\n",
        "          t = t.to(device)\n",
        "          num_matches += ((torch.nn.functional.sigmoid(outputs) > t) == labels).sum()\n",
        "\n",
        "          total += labels.size(0) * 18\n",
        "\n",
        "  val_loss = np.mean(losses)\n",
        "  val_acc = 100 * num_matches / total\n",
        "  return val_loss, val_acc\n",
        "\n",
        "\n",
        "def train(convnet, args):\n",
        "  \"\"\"Training loop for a single validation fold.\"\"\"\n",
        "  train_losses = []\n",
        "  valid_losses = []\n",
        "  valid_accs = []\n",
        "  best_loss = -100 \n",
        "  start = time.time()\n",
        "\n",
        "  device = torch.device(\"cuda:0\" if torch.cuda.is_available() else \"cpu\")\n",
        "\n",
        "  best_model_wts = copy.deepcopy(convnet.state_dict())\n",
        "\n",
        "  train_set = AUDataset(mode='train_full', transform=args.transform)\n",
        "  train_loader = DataLoader(train_set, args.batch_size, collate_fn=collate_fn,\n",
        "                            shuffle=True, num_workers=args.num_workers)\n",
        "  \n",
        "  val_set = AUDataset(mode='validate_full', transform=args.transform)\n",
        "  val_loader = DataLoader(val_set, args.batch_size, collate_fn=collate_fn,\n",
        "                          shuffle=True, num_workers=args.num_workers)\n",
        "\n",
        "  optimizer = torch.optim.Adam(convnet.parameters(), args.learn_rate)\n",
        "  criterion = torch.nn.BCEWithLogitsLoss()\n",
        "\n",
        "  if args.resume: \n",
        "    print(\"Loading checkpoint\")\n",
        "    state = torch.load(args.checkpoint)\n",
        "    convnet.load_state_dict(state['model_state_dict'])\n",
        "    optimizer.load_state_dict(state['optimizer_state_dict'])\n",
        "\n",
        "\n",
        "  for epoch in range(args.epochs):\n",
        "      convnet.train()\n",
        "      losses = []\n",
        "\n",
        "      for _, item in enumerate(train_loader, 0):\n",
        "          \n",
        "          labels = item.get(\"labels\")\n",
        "          imgs = item.get(\"image\")\n",
        "\n",
        "          labels = labels.to(device)\n",
        "          imgs = imgs.to(device)\n",
        "\n",
        "          optimizer.zero_grad()\n",
        "\n",
        "          outputs = convnet(imgs)\n",
        "          loss = criterion(outputs, labels)\n",
        "          loss.backward()\n",
        "          optimizer.step()\n",
        "          losses.append(loss.data.item())\n",
        "\n",
        "\n",
        "      avg_loss = np.mean(losses)\n",
        "      train_losses.append(avg_loss)\n",
        "      time_elapsed = time.time() - start\n",
        "\n",
        "      print('Epoch [%d/%d], Loss: %.4f, Time (s): %d' % (\n",
        "          epoch + 1, args.epochs, avg_loss, time_elapsed))\n",
        "      \n",
        "      # Validation \n",
        "      convnet.eval()\n",
        "      val_loss, val_acc = validation_step(convnet, val_loader, criterion,\n",
        "                                          args.batch_size)\n",
        "      time_elapsed = time.time() - start\n",
        "      valid_losses.append(val_loss)\n",
        "      valid_accs.append(val_acc)\n",
        "\n",
        "      print('Epoch [%d/%d], Val Loss: %.4f, Val Acc: %.1f%%, Time(s): %.2f' % (\n",
        "          epoch + 1, args.epochs, val_loss, val_acc, time_elapsed))\n",
        "\n",
        "      # Save model\n",
        "      if -val_loss >= best_loss:\n",
        "        print(\"Best Loss: Saving Model\")\n",
        "        best_loss = -val_loss\n",
        "        checkpoint = {\n",
        "              'model_state_dict': convnet.state_dict(),\n",
        "              'optimizer_state_dict': optimizer.state_dict(),\n",
        "              'train_losses': train_losses,\n",
        "              'valid_losses': valid_losses,\n",
        "              'best_val_loss': best_loss\n",
        "          }\n",
        "        torch.save(checkpoint, args.checkpoint)\n",
        "\n",
        "\n",
        "def match_state_dict(state_dict):\n",
        "  \"\"\"\n",
        "  Renames 'fc.0' to 'fc.1' and 'fc.2' to 'fc.3' in order to load pretrained\n",
        "  model weights to new model.\n",
        "  \"\"\"\n",
        "  new_sd = copy.deepcopy(state_dict)\n",
        "  for key in state_dict:\n",
        "    if 'fc' in key:\n",
        "      layer, num, weight = key.split('.')\n",
        "      if int(num) == 0:\n",
        "        new_sd['{}.1.{}'.format(layer, weight)] = new_sd.pop(key)\n",
        "      elif int(num) == 2:\n",
        "        new_sd['{}.3.{}'.format(layer, weight)] = new_sd.pop(key)\n",
        "  return new_sd\n",
        "\n",
        "def get_model(path):\n",
        "  \"\"\"\n",
        "  Returns a model that has already been pretrained on the CelebA dataset.\n",
        "  \"\"\"\n",
        "  model = models.resnet18(pretrained=True)\n",
        "  num = model.fc.in_features\n",
        "  fc = torch.nn.Sequential(\n",
        "      torch.nn.LeakyReLU(),\n",
        "      torch.nn.Linear(512, 256), \n",
        "      torch.nn.LeakyReLU(),\n",
        "      torch.nn.Linear(256, 18))\n",
        "  \n",
        "  model.fc = fc\n",
        "  device = torch.device(\"cuda:0\" if torch.cuda.is_available() else \"cpu\")\n",
        "  last_cp = torch.load(path)\n",
        "  model_state_dict = match_state_dict(last_cp['model_state_dict'])\n",
        "  model.load_state_dict(model_state_dict)\n",
        "  model = model.to(device)\n",
        "  return model"
      ],
      "execution_count": 10,
      "outputs": []
    },
    {
      "cell_type": "code",
      "metadata": {
        "colab": {
          "base_uri": "https://localhost:8080/",
          "height": 851
        },
        "id": "YmTbjzDshZBR",
        "outputId": "53af491a-0752-42e2-a8b7-67f77c6521d3"
      },
      "source": [
        "args = AttrDict()\n",
        "args_dict = {\n",
        "    'gpu': True,\n",
        "    'transform': transform,\n",
        "    'checkpoint': '/content/drive/MyDrive/training/checkpoints/final.pt',\n",
        "    'learn_rate': 0.0001,\n",
        "    'batch_size': 33,\n",
        "    'epochs': 12,\n",
        "    'num_workers': 4,\n",
        "    'resume': False \n",
        "}\n",
        "\n",
        "args.update(args_dict)\n",
        "convnet = get_model('/content/drive/My Drive/training/876.pt')\n",
        "\n",
        "# Freeze feature map layers\n",
        "for name, param in convnet.named_parameters():\n",
        "  if ('fc' in name) or ('layer4' in name):\n",
        "    param.requires_grad = True\n",
        "  else:\n",
        "    param.requires_grad = False\n",
        "train(convnet, args=args)"
      ],
      "execution_count": null,
      "outputs": [
        {
          "output_type": "stream",
          "text": [
            "Epoch [1/12], Loss: 0.4340, Time (s): 221\n"
          ],
          "name": "stdout"
        },
        {
          "output_type": "stream",
          "text": [
            "/usr/local/lib/python3.6/dist-packages/torch/nn/functional.py:1639: UserWarning: nn.functional.sigmoid is deprecated. Use torch.sigmoid instead.\n",
            "  warnings.warn(\"nn.functional.sigmoid is deprecated. Use torch.sigmoid instead.\")\n"
          ],
          "name": "stderr"
        },
        {
          "output_type": "stream",
          "text": [
            "Epoch [1/12], Val Loss: 0.1931, Val Acc: 93.4%, Time(s): 236.19\n",
            "Best Loss: Saving Model\n",
            "Epoch [2/12], Loss: 0.1655, Time (s): 458\n",
            "Epoch [2/12], Val Loss: 0.1553, Val Acc: 94.1%, Time(s): 473.74\n",
            "Best Loss: Saving Model\n",
            "Epoch [3/12], Loss: 0.1250, Time (s): 695\n",
            "Epoch [3/12], Val Loss: 0.1386, Val Acc: 94.4%, Time(s): 710.12\n",
            "Best Loss: Saving Model\n",
            "Epoch [4/12], Loss: 0.1042, Time (s): 931\n",
            "Epoch [4/12], Val Loss: 0.1356, Val Acc: 94.6%, Time(s): 946.19\n",
            "Best Loss: Saving Model\n",
            "Epoch [5/12], Loss: 0.0846, Time (s): 1167\n",
            "Epoch [5/12], Val Loss: 0.1304, Val Acc: 94.8%, Time(s): 1182.60\n",
            "Best Loss: Saving Model\n",
            "Epoch [6/12], Loss: 0.0690, Time (s): 1405\n",
            "Epoch [6/12], Val Loss: 0.1342, Val Acc: 94.8%, Time(s): 1420.49\n",
            "Epoch [7/12], Loss: 0.0565, Time (s): 1640\n",
            "Epoch [7/12], Val Loss: 0.1295, Val Acc: 95.1%, Time(s): 1655.92\n",
            "Best Loss: Saving Model\n",
            "Epoch [8/12], Loss: 0.0442, Time (s): 1878\n",
            "Epoch [8/12], Val Loss: 0.1322, Val Acc: 95.1%, Time(s): 1893.80\n",
            "Epoch [9/12], Loss: 0.0348, Time (s): 2115\n",
            "Epoch [9/12], Val Loss: 0.1298, Val Acc: 95.1%, Time(s): 2131.23\n",
            "Epoch [10/12], Loss: 0.0285, Time (s): 2354\n",
            "Epoch [10/12], Val Loss: 0.1337, Val Acc: 94.9%, Time(s): 2369.41\n",
            "Epoch [11/12], Loss: 0.0224, Time (s): 2591\n",
            "Epoch [11/12], Val Loss: 0.1297, Val Acc: 95.1%, Time(s): 2606.69\n"
          ],
          "name": "stdout"
        },
        {
          "output_type": "error",
          "ename": "KeyboardInterrupt",
          "evalue": "ignored",
          "traceback": [
            "\u001b[0;31m---------------------------------------------------------------------------\u001b[0m",
            "\u001b[0;31mKeyboardInterrupt\u001b[0m                         Traceback (most recent call last)",
            "\u001b[0;32m<ipython-input-9-09800292e377>\u001b[0m in \u001b[0;36m<module>\u001b[0;34m()\u001b[0m\n\u001b[1;32m     20\u001b[0m   \u001b[0;32melse\u001b[0m\u001b[0;34m:\u001b[0m\u001b[0;34m\u001b[0m\u001b[0;34m\u001b[0m\u001b[0m\n\u001b[1;32m     21\u001b[0m     \u001b[0mparam\u001b[0m\u001b[0;34m.\u001b[0m\u001b[0mrequires_grad\u001b[0m \u001b[0;34m=\u001b[0m \u001b[0;32mFalse\u001b[0m\u001b[0;34m\u001b[0m\u001b[0;34m\u001b[0m\u001b[0m\n\u001b[0;32m---> 22\u001b[0;31m \u001b[0mtrain\u001b[0m\u001b[0;34m(\u001b[0m\u001b[0mconvnet\u001b[0m\u001b[0;34m,\u001b[0m \u001b[0margs\u001b[0m\u001b[0;34m=\u001b[0m\u001b[0margs\u001b[0m\u001b[0;34m)\u001b[0m\u001b[0;34m\u001b[0m\u001b[0;34m\u001b[0m\u001b[0m\n\u001b[0m",
            "\u001b[0;32m<ipython-input-8-b7e14d26feb2>\u001b[0m in \u001b[0;36mtrain\u001b[0;34m(convnet, args)\u001b[0m\n\u001b[1;32m     76\u001b[0m       \u001b[0mlosses\u001b[0m \u001b[0;34m=\u001b[0m \u001b[0;34m[\u001b[0m\u001b[0;34m]\u001b[0m\u001b[0;34m\u001b[0m\u001b[0;34m\u001b[0m\u001b[0m\n\u001b[1;32m     77\u001b[0m \u001b[0;34m\u001b[0m\u001b[0m\n\u001b[0;32m---> 78\u001b[0;31m       \u001b[0;32mfor\u001b[0m \u001b[0m_\u001b[0m\u001b[0;34m,\u001b[0m \u001b[0mitem\u001b[0m \u001b[0;32min\u001b[0m \u001b[0menumerate\u001b[0m\u001b[0;34m(\u001b[0m\u001b[0mtrain_loader\u001b[0m\u001b[0;34m,\u001b[0m \u001b[0;36m0\u001b[0m\u001b[0;34m)\u001b[0m\u001b[0;34m:\u001b[0m\u001b[0;34m\u001b[0m\u001b[0;34m\u001b[0m\u001b[0m\n\u001b[0m\u001b[1;32m     79\u001b[0m \u001b[0;34m\u001b[0m\u001b[0m\n\u001b[1;32m     80\u001b[0m           \u001b[0mlabels\u001b[0m \u001b[0;34m=\u001b[0m \u001b[0mitem\u001b[0m\u001b[0;34m.\u001b[0m\u001b[0mget\u001b[0m\u001b[0;34m(\u001b[0m\u001b[0;34m\"labels\"\u001b[0m\u001b[0;34m)\u001b[0m\u001b[0;34m\u001b[0m\u001b[0;34m\u001b[0m\u001b[0m\n",
            "\u001b[0;32m/usr/local/lib/python3.6/dist-packages/torch/utils/data/dataloader.py\u001b[0m in \u001b[0;36m__next__\u001b[0;34m(self)\u001b[0m\n\u001b[1;32m    433\u001b[0m         \u001b[0;32mif\u001b[0m \u001b[0mself\u001b[0m\u001b[0;34m.\u001b[0m\u001b[0m_sampler_iter\u001b[0m \u001b[0;32mis\u001b[0m \u001b[0;32mNone\u001b[0m\u001b[0;34m:\u001b[0m\u001b[0;34m\u001b[0m\u001b[0;34m\u001b[0m\u001b[0m\n\u001b[1;32m    434\u001b[0m             \u001b[0mself\u001b[0m\u001b[0;34m.\u001b[0m\u001b[0m_reset\u001b[0m\u001b[0;34m(\u001b[0m\u001b[0;34m)\u001b[0m\u001b[0;34m\u001b[0m\u001b[0;34m\u001b[0m\u001b[0m\n\u001b[0;32m--> 435\u001b[0;31m         \u001b[0mdata\u001b[0m \u001b[0;34m=\u001b[0m \u001b[0mself\u001b[0m\u001b[0;34m.\u001b[0m\u001b[0m_next_data\u001b[0m\u001b[0;34m(\u001b[0m\u001b[0;34m)\u001b[0m\u001b[0;34m\u001b[0m\u001b[0;34m\u001b[0m\u001b[0m\n\u001b[0m\u001b[1;32m    436\u001b[0m         \u001b[0mself\u001b[0m\u001b[0;34m.\u001b[0m\u001b[0m_num_yielded\u001b[0m \u001b[0;34m+=\u001b[0m \u001b[0;36m1\u001b[0m\u001b[0;34m\u001b[0m\u001b[0;34m\u001b[0m\u001b[0m\n\u001b[1;32m    437\u001b[0m         \u001b[0;32mif\u001b[0m \u001b[0mself\u001b[0m\u001b[0;34m.\u001b[0m\u001b[0m_dataset_kind\u001b[0m \u001b[0;34m==\u001b[0m \u001b[0m_DatasetKind\u001b[0m\u001b[0;34m.\u001b[0m\u001b[0mIterable\u001b[0m \u001b[0;32mand\u001b[0m\u001b[0;31m \u001b[0m\u001b[0;31m\\\u001b[0m\u001b[0;34m\u001b[0m\u001b[0;34m\u001b[0m\u001b[0m\n",
            "\u001b[0;32m/usr/local/lib/python3.6/dist-packages/torch/utils/data/dataloader.py\u001b[0m in \u001b[0;36m_next_data\u001b[0;34m(self)\u001b[0m\n\u001b[1;32m   1066\u001b[0m \u001b[0;34m\u001b[0m\u001b[0m\n\u001b[1;32m   1067\u001b[0m             \u001b[0;32massert\u001b[0m \u001b[0;32mnot\u001b[0m \u001b[0mself\u001b[0m\u001b[0;34m.\u001b[0m\u001b[0m_shutdown\u001b[0m \u001b[0;32mand\u001b[0m \u001b[0mself\u001b[0m\u001b[0;34m.\u001b[0m\u001b[0m_tasks_outstanding\u001b[0m \u001b[0;34m>\u001b[0m \u001b[0;36m0\u001b[0m\u001b[0;34m\u001b[0m\u001b[0;34m\u001b[0m\u001b[0m\n\u001b[0;32m-> 1068\u001b[0;31m             \u001b[0midx\u001b[0m\u001b[0;34m,\u001b[0m \u001b[0mdata\u001b[0m \u001b[0;34m=\u001b[0m \u001b[0mself\u001b[0m\u001b[0;34m.\u001b[0m\u001b[0m_get_data\u001b[0m\u001b[0;34m(\u001b[0m\u001b[0;34m)\u001b[0m\u001b[0;34m\u001b[0m\u001b[0;34m\u001b[0m\u001b[0m\n\u001b[0m\u001b[1;32m   1069\u001b[0m             \u001b[0mself\u001b[0m\u001b[0;34m.\u001b[0m\u001b[0m_tasks_outstanding\u001b[0m \u001b[0;34m-=\u001b[0m \u001b[0;36m1\u001b[0m\u001b[0;34m\u001b[0m\u001b[0;34m\u001b[0m\u001b[0m\n\u001b[1;32m   1070\u001b[0m             \u001b[0;32mif\u001b[0m \u001b[0mself\u001b[0m\u001b[0;34m.\u001b[0m\u001b[0m_dataset_kind\u001b[0m \u001b[0;34m==\u001b[0m \u001b[0m_DatasetKind\u001b[0m\u001b[0;34m.\u001b[0m\u001b[0mIterable\u001b[0m\u001b[0;34m:\u001b[0m\u001b[0;34m\u001b[0m\u001b[0;34m\u001b[0m\u001b[0m\n",
            "\u001b[0;32m/usr/local/lib/python3.6/dist-packages/torch/utils/data/dataloader.py\u001b[0m in \u001b[0;36m_get_data\u001b[0;34m(self)\u001b[0m\n\u001b[1;32m   1032\u001b[0m         \u001b[0;32melse\u001b[0m\u001b[0;34m:\u001b[0m\u001b[0;34m\u001b[0m\u001b[0;34m\u001b[0m\u001b[0m\n\u001b[1;32m   1033\u001b[0m             \u001b[0;32mwhile\u001b[0m \u001b[0;32mTrue\u001b[0m\u001b[0;34m:\u001b[0m\u001b[0;34m\u001b[0m\u001b[0;34m\u001b[0m\u001b[0m\n\u001b[0;32m-> 1034\u001b[0;31m                 \u001b[0msuccess\u001b[0m\u001b[0;34m,\u001b[0m \u001b[0mdata\u001b[0m \u001b[0;34m=\u001b[0m \u001b[0mself\u001b[0m\u001b[0;34m.\u001b[0m\u001b[0m_try_get_data\u001b[0m\u001b[0;34m(\u001b[0m\u001b[0;34m)\u001b[0m\u001b[0;34m\u001b[0m\u001b[0;34m\u001b[0m\u001b[0m\n\u001b[0m\u001b[1;32m   1035\u001b[0m                 \u001b[0;32mif\u001b[0m \u001b[0msuccess\u001b[0m\u001b[0;34m:\u001b[0m\u001b[0;34m\u001b[0m\u001b[0;34m\u001b[0m\u001b[0m\n\u001b[1;32m   1036\u001b[0m                     \u001b[0;32mreturn\u001b[0m \u001b[0mdata\u001b[0m\u001b[0;34m\u001b[0m\u001b[0;34m\u001b[0m\u001b[0m\n",
            "\u001b[0;32m/usr/local/lib/python3.6/dist-packages/torch/utils/data/dataloader.py\u001b[0m in \u001b[0;36m_try_get_data\u001b[0;34m(self, timeout)\u001b[0m\n\u001b[1;32m    870\u001b[0m         \u001b[0;31m#   (bool: whether successfully get data, any: data if successful else None)\u001b[0m\u001b[0;34m\u001b[0m\u001b[0;34m\u001b[0m\u001b[0;34m\u001b[0m\u001b[0m\n\u001b[1;32m    871\u001b[0m         \u001b[0;32mtry\u001b[0m\u001b[0;34m:\u001b[0m\u001b[0;34m\u001b[0m\u001b[0;34m\u001b[0m\u001b[0m\n\u001b[0;32m--> 872\u001b[0;31m             \u001b[0mdata\u001b[0m \u001b[0;34m=\u001b[0m \u001b[0mself\u001b[0m\u001b[0;34m.\u001b[0m\u001b[0m_data_queue\u001b[0m\u001b[0;34m.\u001b[0m\u001b[0mget\u001b[0m\u001b[0;34m(\u001b[0m\u001b[0mtimeout\u001b[0m\u001b[0;34m=\u001b[0m\u001b[0mtimeout\u001b[0m\u001b[0;34m)\u001b[0m\u001b[0;34m\u001b[0m\u001b[0;34m\u001b[0m\u001b[0m\n\u001b[0m\u001b[1;32m    873\u001b[0m             \u001b[0;32mreturn\u001b[0m \u001b[0;34m(\u001b[0m\u001b[0;32mTrue\u001b[0m\u001b[0;34m,\u001b[0m \u001b[0mdata\u001b[0m\u001b[0;34m)\u001b[0m\u001b[0;34m\u001b[0m\u001b[0;34m\u001b[0m\u001b[0m\n\u001b[1;32m    874\u001b[0m         \u001b[0;32mexcept\u001b[0m \u001b[0mException\u001b[0m \u001b[0;32mas\u001b[0m \u001b[0me\u001b[0m\u001b[0;34m:\u001b[0m\u001b[0;34m\u001b[0m\u001b[0;34m\u001b[0m\u001b[0m\n",
            "\u001b[0;32m/usr/lib/python3.6/multiprocessing/queues.py\u001b[0m in \u001b[0;36mget\u001b[0;34m(self, block, timeout)\u001b[0m\n\u001b[1;32m    102\u001b[0m                 \u001b[0;32mif\u001b[0m \u001b[0mblock\u001b[0m\u001b[0;34m:\u001b[0m\u001b[0;34m\u001b[0m\u001b[0;34m\u001b[0m\u001b[0m\n\u001b[1;32m    103\u001b[0m                     \u001b[0mtimeout\u001b[0m \u001b[0;34m=\u001b[0m \u001b[0mdeadline\u001b[0m \u001b[0;34m-\u001b[0m \u001b[0mtime\u001b[0m\u001b[0;34m.\u001b[0m\u001b[0mmonotonic\u001b[0m\u001b[0;34m(\u001b[0m\u001b[0;34m)\u001b[0m\u001b[0;34m\u001b[0m\u001b[0;34m\u001b[0m\u001b[0m\n\u001b[0;32m--> 104\u001b[0;31m                     \u001b[0;32mif\u001b[0m \u001b[0;32mnot\u001b[0m \u001b[0mself\u001b[0m\u001b[0;34m.\u001b[0m\u001b[0m_poll\u001b[0m\u001b[0;34m(\u001b[0m\u001b[0mtimeout\u001b[0m\u001b[0;34m)\u001b[0m\u001b[0;34m:\u001b[0m\u001b[0;34m\u001b[0m\u001b[0;34m\u001b[0m\u001b[0m\n\u001b[0m\u001b[1;32m    105\u001b[0m                         \u001b[0;32mraise\u001b[0m \u001b[0mEmpty\u001b[0m\u001b[0;34m\u001b[0m\u001b[0;34m\u001b[0m\u001b[0m\n\u001b[1;32m    106\u001b[0m                 \u001b[0;32melif\u001b[0m \u001b[0;32mnot\u001b[0m \u001b[0mself\u001b[0m\u001b[0;34m.\u001b[0m\u001b[0m_poll\u001b[0m\u001b[0;34m(\u001b[0m\u001b[0;34m)\u001b[0m\u001b[0;34m:\u001b[0m\u001b[0;34m\u001b[0m\u001b[0;34m\u001b[0m\u001b[0m\n",
            "\u001b[0;32m/usr/lib/python3.6/multiprocessing/connection.py\u001b[0m in \u001b[0;36mpoll\u001b[0;34m(self, timeout)\u001b[0m\n\u001b[1;32m    255\u001b[0m         \u001b[0mself\u001b[0m\u001b[0;34m.\u001b[0m\u001b[0m_check_closed\u001b[0m\u001b[0;34m(\u001b[0m\u001b[0;34m)\u001b[0m\u001b[0;34m\u001b[0m\u001b[0;34m\u001b[0m\u001b[0m\n\u001b[1;32m    256\u001b[0m         \u001b[0mself\u001b[0m\u001b[0;34m.\u001b[0m\u001b[0m_check_readable\u001b[0m\u001b[0;34m(\u001b[0m\u001b[0;34m)\u001b[0m\u001b[0;34m\u001b[0m\u001b[0;34m\u001b[0m\u001b[0m\n\u001b[0;32m--> 257\u001b[0;31m         \u001b[0;32mreturn\u001b[0m \u001b[0mself\u001b[0m\u001b[0;34m.\u001b[0m\u001b[0m_poll\u001b[0m\u001b[0;34m(\u001b[0m\u001b[0mtimeout\u001b[0m\u001b[0;34m)\u001b[0m\u001b[0;34m\u001b[0m\u001b[0;34m\u001b[0m\u001b[0m\n\u001b[0m\u001b[1;32m    258\u001b[0m \u001b[0;34m\u001b[0m\u001b[0m\n\u001b[1;32m    259\u001b[0m     \u001b[0;32mdef\u001b[0m \u001b[0m__enter__\u001b[0m\u001b[0;34m(\u001b[0m\u001b[0mself\u001b[0m\u001b[0;34m)\u001b[0m\u001b[0;34m:\u001b[0m\u001b[0;34m\u001b[0m\u001b[0;34m\u001b[0m\u001b[0m\n",
            "\u001b[0;32m/usr/lib/python3.6/multiprocessing/connection.py\u001b[0m in \u001b[0;36m_poll\u001b[0;34m(self, timeout)\u001b[0m\n\u001b[1;32m    412\u001b[0m \u001b[0;34m\u001b[0m\u001b[0m\n\u001b[1;32m    413\u001b[0m     \u001b[0;32mdef\u001b[0m \u001b[0m_poll\u001b[0m\u001b[0;34m(\u001b[0m\u001b[0mself\u001b[0m\u001b[0;34m,\u001b[0m \u001b[0mtimeout\u001b[0m\u001b[0;34m)\u001b[0m\u001b[0;34m:\u001b[0m\u001b[0;34m\u001b[0m\u001b[0;34m\u001b[0m\u001b[0m\n\u001b[0;32m--> 414\u001b[0;31m         \u001b[0mr\u001b[0m \u001b[0;34m=\u001b[0m \u001b[0mwait\u001b[0m\u001b[0;34m(\u001b[0m\u001b[0;34m[\u001b[0m\u001b[0mself\u001b[0m\u001b[0;34m]\u001b[0m\u001b[0;34m,\u001b[0m \u001b[0mtimeout\u001b[0m\u001b[0;34m)\u001b[0m\u001b[0;34m\u001b[0m\u001b[0;34m\u001b[0m\u001b[0m\n\u001b[0m\u001b[1;32m    415\u001b[0m         \u001b[0;32mreturn\u001b[0m \u001b[0mbool\u001b[0m\u001b[0;34m(\u001b[0m\u001b[0mr\u001b[0m\u001b[0;34m)\u001b[0m\u001b[0;34m\u001b[0m\u001b[0;34m\u001b[0m\u001b[0m\n\u001b[1;32m    416\u001b[0m \u001b[0;34m\u001b[0m\u001b[0m\n",
            "\u001b[0;32m/usr/lib/python3.6/multiprocessing/connection.py\u001b[0m in \u001b[0;36mwait\u001b[0;34m(object_list, timeout)\u001b[0m\n\u001b[1;32m    909\u001b[0m \u001b[0;34m\u001b[0m\u001b[0m\n\u001b[1;32m    910\u001b[0m             \u001b[0;32mwhile\u001b[0m \u001b[0;32mTrue\u001b[0m\u001b[0;34m:\u001b[0m\u001b[0;34m\u001b[0m\u001b[0;34m\u001b[0m\u001b[0m\n\u001b[0;32m--> 911\u001b[0;31m                 \u001b[0mready\u001b[0m \u001b[0;34m=\u001b[0m \u001b[0mselector\u001b[0m\u001b[0;34m.\u001b[0m\u001b[0mselect\u001b[0m\u001b[0;34m(\u001b[0m\u001b[0mtimeout\u001b[0m\u001b[0;34m)\u001b[0m\u001b[0;34m\u001b[0m\u001b[0;34m\u001b[0m\u001b[0m\n\u001b[0m\u001b[1;32m    912\u001b[0m                 \u001b[0;32mif\u001b[0m \u001b[0mready\u001b[0m\u001b[0;34m:\u001b[0m\u001b[0;34m\u001b[0m\u001b[0;34m\u001b[0m\u001b[0m\n\u001b[1;32m    913\u001b[0m                     \u001b[0;32mreturn\u001b[0m \u001b[0;34m[\u001b[0m\u001b[0mkey\u001b[0m\u001b[0;34m.\u001b[0m\u001b[0mfileobj\u001b[0m \u001b[0;32mfor\u001b[0m \u001b[0;34m(\u001b[0m\u001b[0mkey\u001b[0m\u001b[0;34m,\u001b[0m \u001b[0mevents\u001b[0m\u001b[0;34m)\u001b[0m \u001b[0;32min\u001b[0m \u001b[0mready\u001b[0m\u001b[0;34m]\u001b[0m\u001b[0;34m\u001b[0m\u001b[0;34m\u001b[0m\u001b[0m\n",
            "\u001b[0;32m/usr/lib/python3.6/selectors.py\u001b[0m in \u001b[0;36mselect\u001b[0;34m(self, timeout)\u001b[0m\n\u001b[1;32m    374\u001b[0m             \u001b[0mready\u001b[0m \u001b[0;34m=\u001b[0m \u001b[0;34m[\u001b[0m\u001b[0;34m]\u001b[0m\u001b[0;34m\u001b[0m\u001b[0;34m\u001b[0m\u001b[0m\n\u001b[1;32m    375\u001b[0m             \u001b[0;32mtry\u001b[0m\u001b[0;34m:\u001b[0m\u001b[0;34m\u001b[0m\u001b[0;34m\u001b[0m\u001b[0m\n\u001b[0;32m--> 376\u001b[0;31m                 \u001b[0mfd_event_list\u001b[0m \u001b[0;34m=\u001b[0m \u001b[0mself\u001b[0m\u001b[0;34m.\u001b[0m\u001b[0m_poll\u001b[0m\u001b[0;34m.\u001b[0m\u001b[0mpoll\u001b[0m\u001b[0;34m(\u001b[0m\u001b[0mtimeout\u001b[0m\u001b[0;34m)\u001b[0m\u001b[0;34m\u001b[0m\u001b[0;34m\u001b[0m\u001b[0m\n\u001b[0m\u001b[1;32m    377\u001b[0m             \u001b[0;32mexcept\u001b[0m \u001b[0mInterruptedError\u001b[0m\u001b[0;34m:\u001b[0m\u001b[0;34m\u001b[0m\u001b[0;34m\u001b[0m\u001b[0m\n\u001b[1;32m    378\u001b[0m                 \u001b[0;32mreturn\u001b[0m \u001b[0mready\u001b[0m\u001b[0;34m\u001b[0m\u001b[0;34m\u001b[0m\u001b[0m\n",
            "\u001b[0;31mKeyboardInterrupt\u001b[0m: "
          ]
        }
      ]
    },
    {
      "cell_type": "markdown",
      "metadata": {
        "id": "kufFtw7DVK5S"
      },
      "source": [
        "## **Tuning thresholds**"
      ]
    },
    {
      "cell_type": "code",
      "metadata": {
        "id": "OEFOJfFcU-5X",
        "colab": {
          "base_uri": "https://localhost:8080/",
          "height": 83,
          "referenced_widgets": [
            "73c1763f80e24df18890394b5b865e70",
            "004307fa1d794a0f9b76c2bbe48c421e",
            "babdeddcb1344f1b9ee5750040ea67e8",
            "cae65170bad34a2e91d90b8de1772802",
            "ff8bbfb82ad24cff8c8641919275244e",
            "17673e4c6bfc427a8fee197b975162d2",
            "37881bb70bf84594ac6814f66824e002",
            "7d1341b07e8a4ee8be27a2653bb36ba1"
          ]
        },
        "outputId": "e1d175f9-5fb5-4af5-a462-a7ac5586b8ec"
      },
      "source": [
        "from sklearn.metrics import auc, precision_recall_curve\n",
        "\n",
        "convnet = get_model('/content/drive/MyDrive/training/checkpoints/final.pt')\n",
        "# Instantiate dataloader\n",
        "dataset = AUDataset(mode='validate_full', transform=transform)\n",
        "data = DataLoader(dataset, 32, collate_fn=collate_fn, shuffle=True, \n",
        "           num_workers=4)\n",
        "\n",
        "labels = np.array([], dtype=int).reshape(0,18)\n",
        "preds = np.array([], dtype=int).reshape(0,18)\n",
        "convnet.eval() # Set to evaluation mode\n",
        "device = torch.device(\"cuda:0\" if torch.cuda.is_available() else \"cpu\")\n",
        "convnet.to(device)\n",
        "\n",
        "with torch.no_grad():\n",
        "  for _, item in enumerate(data, 0):\n",
        "    batch_labels = item.get(\"labels\")\n",
        "    labels = np.vstack([labels, batch_labels])\n",
        "    imgs = item.get(\"image\")\n",
        "    imgs = imgs.to(device)\n",
        "    outputs = convnet(imgs).cpu().detach()\n",
        "    outputs = torch.sigmoid(outputs).numpy()\n",
        "    preds = np.vstack([preds, outputs])"
      ],
      "execution_count": 11,
      "outputs": [
        {
          "output_type": "stream",
          "text": [
            "Downloading: \"https://download.pytorch.org/models/resnet18-5c106cde.pth\" to /root/.cache/torch/hub/checkpoints/resnet18-5c106cde.pth\n"
          ],
          "name": "stderr"
        },
        {
          "output_type": "display_data",
          "data": {
            "application/vnd.jupyter.widget-view+json": {
              "model_id": "73c1763f80e24df18890394b5b865e70",
              "version_minor": 0,
              "version_major": 2
            },
            "text/plain": [
              "HBox(children=(FloatProgress(value=0.0, max=46827520.0), HTML(value='')))"
            ]
          },
          "metadata": {
            "tags": []
          }
        },
        {
          "output_type": "stream",
          "text": [
            "\n"
          ],
          "name": "stdout"
        }
      ]
    },
    {
      "cell_type": "markdown",
      "metadata": {
        "id": "SJvDAas2Wola"
      },
      "source": [
        "### AU 1"
      ]
    },
    {
      "cell_type": "code",
      "metadata": {
        "colab": {
          "base_uri": "https://localhost:8080/",
          "height": 313
        },
        "id": "ORg7Dy8EWgGT",
        "outputId": "90292a18-7d53-476b-9443-742894d99869"
      },
      "source": [
        "au_labels, au_preds = labels[:, 0], preds[:, 0]\n",
        "precisions, recalls, thresholds = precision_recall_curve(au_labels, au_preds)\n",
        "auc_precision_recall = auc(recalls, precisions)\n",
        "print(auc_precision_recall)\n",
        "plt.plot(thresholds, precisions[:-1], \"b--\", label=\"Precision\")\n",
        "plt.plot(thresholds, recalls[:-1], \"g--\", label=\"Recall\")\n",
        "plt.xlabel(\"Threshold\")"
      ],
      "execution_count": 12,
      "outputs": [
        {
          "output_type": "stream",
          "text": [
            "0.9568700396825397\n"
          ],
          "name": "stdout"
        },
        {
          "output_type": "execute_result",
          "data": {
            "text/plain": [
              "Text(0.5, 0, 'Threshold')"
            ]
          },
          "metadata": {
            "tags": []
          },
          "execution_count": 12
        },
        {
          "output_type": "display_data",
          "data": {
            "image/png": "[encoded data removed]",
            "text/plain": [
              "<Figure size 432x288 with 1 Axes>"
            ]
          },
          "metadata": {
            "tags": [],
            "needs_background": "light"
          }
        }
      ]
    },
    {
      "cell_type": "code",
      "metadata": {
        "colab": {
          "base_uri": "https://localhost:8080/"
        },
        "id": "gmFcrgUZX3wt",
        "outputId": "dc2806de-e837-42fe-a24c-c6b419abc2eb"
      },
      "source": [
        "au_preds_t = (au_preds > 0.9) * 1\n",
        "print(f'Precision: {precision_score(au_labels, au_preds_t)}')\n",
        "print(f'Recall: {recall_score(au_labels, au_preds_t)}')"
      ],
      "execution_count": 13,
      "outputs": [
        {
          "output_type": "stream",
          "text": [
            "Precision: 1.0\n",
            "Recall: 0.625\n"
          ],
          "name": "stdout"
        }
      ]
    },
    {
      "cell_type": "markdown",
      "metadata": {
        "id": "_Qh_1dwcYh6Q"
      },
      "source": [
        "### AU 2"
      ]
    },
    {
      "cell_type": "code",
      "metadata": {
        "colab": {
          "base_uri": "https://localhost:8080/",
          "height": 313
        },
        "id": "N9Eh5L5jYkUS",
        "outputId": "7673b578-4c05-4689-9a9d-c3eeb08ad054"
      },
      "source": [
        "au_labels, au_preds = labels[:, 1], preds[:, 1]\n",
        "precisions, recalls, thresholds = precision_recall_curve(au_labels, au_preds)\n",
        "auc_precision_recall = auc(recalls, precisions)\n",
        "print(auc_precision_recall)\n",
        "plt.plot(thresholds, precisions[:-1], \"b--\", label=\"Precision\")\n",
        "plt.plot(thresholds, recalls[:-1], \"g--\", label=\"Recall\")\n",
        "plt.xlabel(\"Threshold\")"
      ],
      "execution_count": 14,
      "outputs": [
        {
          "output_type": "stream",
          "text": [
            "0.864367816091954\n"
          ],
          "name": "stdout"
        },
        {
          "output_type": "execute_result",
          "data": {
            "text/plain": [
              "Text(0.5, 0, 'Threshold')"
            ]
          },
          "metadata": {
            "tags": []
          },
          "execution_count": 14
        },
        {
          "output_type": "display_data",
          "data": {
            "image/png": "[encoded data removed]",
            "text/plain": [
              "<Figure size 432x288 with 1 Axes>"
            ]
          },
          "metadata": {
            "tags": [],
            "needs_background": "light"
          }
        }
      ]
    },
    {
      "cell_type": "code",
      "metadata": {
        "colab": {
          "base_uri": "https://localhost:8080/"
        },
        "id": "rzyPtd-Qb2_8",
        "outputId": "4c20cf3b-c6ec-4f68-89a7-d7923ae8f4d8"
      },
      "source": [
        "au_preds_t = (au_preds > 0.6) * 1\n",
        "print(f'Precision: {precision_score(au_labels, au_preds_t)}')\n",
        "print(f'Recall: {recall_score(au_labels, au_preds_t)}')"
      ],
      "execution_count": 15,
      "outputs": [
        {
          "output_type": "stream",
          "text": [
            "Precision: 0.5555555555555556\n",
            "Recall: 0.8333333333333334\n"
          ],
          "name": "stdout"
        }
      ]
    },
    {
      "cell_type": "markdown",
      "metadata": {
        "id": "i-Hzy-fRcHJY"
      },
      "source": [
        "### AU 4"
      ]
    },
    {
      "cell_type": "code",
      "metadata": {
        "colab": {
          "base_uri": "https://localhost:8080/",
          "height": 313
        },
        "id": "PKKF_EMEcGLr",
        "outputId": "67d4be0c-dc99-4507-8615-2547c4d0f5fb"
      },
      "source": [
        "au_labels, au_preds = labels[:, 2], preds[:, 2]\n",
        "precisions, recalls, thresholds = precision_recall_curve(au_labels, au_preds)\n",
        "auc_precision_recall = auc(recalls, precisions)\n",
        "print(auc_precision_recall)\n",
        "plt.plot(thresholds, precisions[:-1], \"b--\", label=\"Precision\")\n",
        "plt.plot(thresholds, recalls[:-1], \"g--\", label=\"Recall\")\n",
        "plt.xlabel(\"Threshold\")"
      ],
      "execution_count": 16,
      "outputs": [
        {
          "output_type": "stream",
          "text": [
            "0.9037698412698413\n"
          ],
          "name": "stdout"
        },
        {
          "output_type": "execute_result",
          "data": {
            "text/plain": [
              "Text(0.5, 0, 'Threshold')"
            ]
          },
          "metadata": {
            "tags": []
          },
          "execution_count": 16
        },
        {
          "output_type": "display_data",
          "data": {
            "image/png": "[encoded data removed]",
            "text/plain": [
              "<Figure size 432x288 with 1 Axes>"
            ]
          },
          "metadata": {
            "tags": [],
            "needs_background": "light"
          }
        }
      ]
    },
    {
      "cell_type": "code",
      "metadata": {
        "colab": {
          "base_uri": "https://localhost:8080/"
        },
        "id": "4EonCndQcUpS",
        "outputId": "ac40d92c-cc45-48aa-c5d3-5837b2634c90"
      },
      "source": [
        "au_preds_t = (au_preds > 0.75) * 1\n",
        "print(f'Precision: {precision_score(au_labels, au_preds_t)}')\n",
        "print(f'Recall: {recall_score(au_labels, au_preds_t)}')"
      ],
      "execution_count": 17,
      "outputs": [
        {
          "output_type": "stream",
          "text": [
            "Precision: 0.8\n",
            "Recall: 0.6666666666666666\n"
          ],
          "name": "stdout"
        }
      ]
    },
    {
      "cell_type": "markdown",
      "metadata": {
        "id": "AY1xgeZacqwj"
      },
      "source": [
        "### AU 5"
      ]
    },
    {
      "cell_type": "code",
      "metadata": {
        "colab": {
          "base_uri": "https://localhost:8080/",
          "height": 313
        },
        "id": "Y_Me4Pu_cxBJ",
        "outputId": "5fbab3a7-9ec7-4d0a-c6fc-5294a702734c"
      },
      "source": [
        "au_labels, au_preds = labels[:, 3], preds[:, 3]\n",
        "precisions, recalls, thresholds = precision_recall_curve(au_labels, au_preds)\n",
        "auc_precision_recall = auc(recalls, precisions)\n",
        "print(auc_precision_recall)\n",
        "plt.plot(thresholds, precisions[:-1], \"b--\", label=\"Precision\")\n",
        "plt.plot(thresholds, recalls[:-1], \"g--\", label=\"Recall\")\n",
        "plt.xlabel(\"Threshold\")"
      ],
      "execution_count": 18,
      "outputs": [
        {
          "output_type": "stream",
          "text": [
            "1.0\n"
          ],
          "name": "stdout"
        },
        {
          "output_type": "execute_result",
          "data": {
            "text/plain": [
              "Text(0.5, 0, 'Threshold')"
            ]
          },
          "metadata": {
            "tags": []
          },
          "execution_count": 18
        },
        {
          "output_type": "display_data",
          "data": {
            "image/png": "[encoded data removed]",
            "text/plain": [
              "<Figure size 432x288 with 1 Axes>"
            ]
          },
          "metadata": {
            "tags": [],
            "needs_background": "light"
          }
        }
      ]
    },
    {
      "cell_type": "code",
      "metadata": {
        "colab": {
          "base_uri": "https://localhost:8080/"
        },
        "id": "4m4Nw4_ec4cM",
        "outputId": "15d75ef9-bb6c-4d71-ad0d-f443e8c81fb1"
      },
      "source": [
        "au_preds_t = (au_preds > 0.5) * 1\n",
        "print(f'Precision: {precision_score(au_labels, au_preds_t)}')\n",
        "print(f'Recall: {recall_score(au_labels, au_preds_t)}')"
      ],
      "execution_count": 19,
      "outputs": [
        {
          "output_type": "stream",
          "text": [
            "Precision: 1.0\n",
            "Recall: 1.0\n"
          ],
          "name": "stdout"
        }
      ]
    },
    {
      "cell_type": "markdown",
      "metadata": {
        "id": "66lAFn0ldG6s"
      },
      "source": [
        "### AU 6"
      ]
    },
    {
      "cell_type": "code",
      "metadata": {
        "colab": {
          "base_uri": "https://localhost:8080/",
          "height": 313
        },
        "id": "cuqRQdsrdLaR",
        "outputId": "52ff7bd9-f858-41f8-f6bb-c30be10ce742"
      },
      "source": [
        "au_labels, au_preds = labels[:, 4], preds[:, 4]\n",
        "precisions, recalls, thresholds = precision_recall_curve(au_labels, au_preds)\n",
        "auc_precision_recall = auc(recalls, precisions)\n",
        "print(auc_precision_recall)\n",
        "plt.plot(thresholds, precisions[:-1], \"b--\", label=\"Precision\")\n",
        "plt.plot(thresholds, recalls[:-1], \"g--\", label=\"Recall\")\n",
        "plt.xlabel(\"Threshold\")"
      ],
      "execution_count": 20,
      "outputs": [
        {
          "output_type": "stream",
          "text": [
            "0.8837868480725624\n"
          ],
          "name": "stdout"
        },
        {
          "output_type": "execute_result",
          "data": {
            "text/plain": [
              "Text(0.5, 0, 'Threshold')"
            ]
          },
          "metadata": {
            "tags": []
          },
          "execution_count": 20
        },
        {
          "output_type": "display_data",
          "data": {
            "image/png": "[encoded data removed]",
            "text/plain": [
              "<Figure size 432x288 with 1 Axes>"
            ]
          },
          "metadata": {
            "tags": [],
            "needs_background": "light"
          }
        }
      ]
    },
    {
      "cell_type": "code",
      "metadata": {
        "colab": {
          "base_uri": "https://localhost:8080/"
        },
        "id": "1ghZXuAfdRNI",
        "outputId": "940fcf41-f34e-48a5-f8d5-e6fb3fffc244"
      },
      "source": [
        "au_preds_t = (au_preds > 0.5) * 1\n",
        "print(f'Precision: {precision_score(au_labels, au_preds_t)}')\n",
        "print(f'Recall: {recall_score(au_labels, au_preds_t)}')"
      ],
      "execution_count": 21,
      "outputs": [
        {
          "output_type": "stream",
          "text": [
            "Precision: 0.7142857142857143\n",
            "Recall: 0.7142857142857143\n"
          ],
          "name": "stdout"
        }
      ]
    },
    {
      "cell_type": "markdown",
      "metadata": {
        "id": "ogk_l0sgdg92"
      },
      "source": [
        "### AU 7"
      ]
    },
    {
      "cell_type": "code",
      "metadata": {
        "colab": {
          "base_uri": "https://localhost:8080/",
          "height": 313
        },
        "id": "brlo3adMdjwb",
        "outputId": "de2c31b0-2c5a-4232-f4ac-875ef7373314"
      },
      "source": [
        "au_labels, au_preds = labels[:, 5], preds[:, 5]\n",
        "precisions, recalls, thresholds = precision_recall_curve(au_labels, au_preds)\n",
        "auc_precision_recall = auc(recalls, precisions)\n",
        "print(auc_precision_recall)\n",
        "plt.plot(thresholds, precisions[:-1], \"b--\", label=\"Precision\")\n",
        "plt.plot(thresholds, recalls[:-1], \"g--\", label=\"Recall\")\n",
        "plt.xlabel(\"Threshold\")"
      ],
      "execution_count": 22,
      "outputs": [
        {
          "output_type": "stream",
          "text": [
            "0.7548611111111111\n"
          ],
          "name": "stdout"
        },
        {
          "output_type": "execute_result",
          "data": {
            "text/plain": [
              "Text(0.5, 0, 'Threshold')"
            ]
          },
          "metadata": {
            "tags": []
          },
          "execution_count": 22
        },
        {
          "output_type": "display_data",
          "data": {
            "image/png": "[encoded data removed]",
            "text/plain": [
              "<Figure size 432x288 with 1 Axes>"
            ]
          },
          "metadata": {
            "tags": [],
            "needs_background": "light"
          }
        }
      ]
    },
    {
      "cell_type": "code",
      "metadata": {
        "colab": {
          "base_uri": "https://localhost:8080/"
        },
        "id": "m3ILLMcGdqB_",
        "outputId": "c11edfcf-732e-4b45-fd03-da7ac8c180f7"
      },
      "source": [
        "au_preds_t = (au_preds > 0.55) * 1\n",
        "print(f'Precision: {precision_score(au_labels, au_preds_t)}')\n",
        "print(f'Recall: {recall_score(au_labels, au_preds_t)}')"
      ],
      "execution_count": 23,
      "outputs": [
        {
          "output_type": "stream",
          "text": [
            "Precision: 0.6666666666666666\n",
            "Recall: 0.3333333333333333\n"
          ],
          "name": "stdout"
        }
      ]
    },
    {
      "cell_type": "markdown",
      "metadata": {
        "id": "iziMRsVneCTX"
      },
      "source": [
        "### AU 9"
      ]
    },
    {
      "cell_type": "code",
      "metadata": {
        "colab": {
          "base_uri": "https://localhost:8080/",
          "height": 313
        },
        "id": "ksNXPfFneEzW",
        "outputId": "63bc26dc-9a4f-419b-a945-54925e3c4db0"
      },
      "source": [
        "au_labels, au_preds = labels[:, 6], preds[:, 6]\n",
        "precisions, recalls, thresholds = precision_recall_curve(au_labels, au_preds)\n",
        "auc_precision_recall = auc(recalls, precisions)\n",
        "print(auc_precision_recall)\n",
        "plt.plot(thresholds, precisions[:-1], \"b--\", label=\"Precision\")\n",
        "plt.plot(thresholds, recalls[:-1], \"g--\", label=\"Recall\")\n",
        "plt.xlabel(\"Threshold\")"
      ],
      "execution_count": 24,
      "outputs": [
        {
          "output_type": "stream",
          "text": [
            "1.0\n"
          ],
          "name": "stdout"
        },
        {
          "output_type": "execute_result",
          "data": {
            "text/plain": [
              "Text(0.5, 0, 'Threshold')"
            ]
          },
          "metadata": {
            "tags": []
          },
          "execution_count": 24
        },
        {
          "output_type": "display_data",
          "data": {
            "image/png": "[encoded data removed]",
            "text/plain": [
              "<Figure size 432x288 with 1 Axes>"
            ]
          },
          "metadata": {
            "tags": [],
            "needs_background": "light"
          }
        }
      ]
    },
    {
      "cell_type": "code",
      "metadata": {
        "colab": {
          "base_uri": "https://localhost:8080/"
        },
        "id": "I8dBlq34eNsh",
        "outputId": "ab24367c-1bd4-4052-96bf-37df16ab5f82"
      },
      "source": [
        "au_preds_t = (au_preds > 0.25) * 1\n",
        "print(f'Precision: {precision_score(au_labels, au_preds_t)}')\n",
        "print(f'Recall: {recall_score(au_labels, au_preds_t)}')"
      ],
      "execution_count": 25,
      "outputs": [
        {
          "output_type": "stream",
          "text": [
            "Precision: 1.0\n",
            "Recall: 1.0\n"
          ],
          "name": "stdout"
        }
      ]
    },
    {
      "cell_type": "markdown",
      "metadata": {
        "id": "QkMoQnJEerMh"
      },
      "source": [
        "### AU 10"
      ]
    },
    {
      "cell_type": "code",
      "metadata": {
        "colab": {
          "base_uri": "https://localhost:8080/",
          "height": 313
        },
        "id": "EMGhgRTieuux",
        "outputId": "6cbf0027-2f11-4d3f-d5a2-a74018ac55e4"
      },
      "source": [
        "au_labels, au_preds = labels[:, 7], preds[:, 7]\n",
        "precisions, recalls, thresholds = precision_recall_curve(au_labels, au_preds)\n",
        "auc_precision_recall = auc(recalls, precisions)\n",
        "print(auc_precision_recall)\n",
        "plt.plot(thresholds, precisions[:-1], \"b--\", label=\"Precision\")\n",
        "plt.plot(thresholds, recalls[:-1], \"g--\", label=\"Recall\")\n",
        "plt.xlabel(\"Threshold\")"
      ],
      "execution_count": 26,
      "outputs": [
        {
          "output_type": "stream",
          "text": [
            "1.0\n"
          ],
          "name": "stdout"
        },
        {
          "output_type": "execute_result",
          "data": {
            "text/plain": [
              "Text(0.5, 0, 'Threshold')"
            ]
          },
          "metadata": {
            "tags": []
          },
          "execution_count": 26
        },
        {
          "output_type": "display_data",
          "data": {
            "image/png": "[encoded data removed]",
            "text/plain": [
              "<Figure size 432x288 with 1 Axes>"
            ]
          },
          "metadata": {
            "tags": [],
            "needs_background": "light"
          }
        }
      ]
    },
    {
      "cell_type": "code",
      "metadata": {
        "colab": {
          "base_uri": "https://localhost:8080/"
        },
        "id": "mTFDYvgrfEX4",
        "outputId": "566c06ba-4815-4095-ece6-d40d85f8d8e4"
      },
      "source": [
        "au_preds_t = (au_preds > 0.2) * 1\n",
        "print(f'Precision: {precision_score(au_labels, au_preds_t)}')\n",
        "print(f'Recall: {recall_score(au_labels, au_preds_t)}')"
      ],
      "execution_count": 27,
      "outputs": [
        {
          "output_type": "stream",
          "text": [
            "Precision: 0.5\n",
            "Recall: 1.0\n"
          ],
          "name": "stdout"
        }
      ]
    },
    {
      "cell_type": "markdown",
      "metadata": {
        "id": "BaduETfufbLd"
      },
      "source": [
        "### AU 12"
      ]
    },
    {
      "cell_type": "code",
      "metadata": {
        "colab": {
          "base_uri": "https://localhost:8080/",
          "height": 313
        },
        "id": "qIglgAxKfg_9",
        "outputId": "0489488a-44af-452c-a5d7-0e7035b4bec6"
      },
      "source": [
        "au_labels, au_preds = labels[:, 8], preds[:, 8]\n",
        "precisions, recalls, thresholds = precision_recall_curve(au_labels, au_preds)\n",
        "auc_precision_recall = auc(recalls, precisions)\n",
        "print(auc_precision_recall)\n",
        "plt.plot(thresholds, precisions[:-1], \"b--\", label=\"Precision\")\n",
        "plt.plot(thresholds, recalls[:-1], \"g--\", label=\"Recall\")\n",
        "plt.xlabel(\"Threshold\")"
      ],
      "execution_count": 28,
      "outputs": [
        {
          "output_type": "stream",
          "text": [
            "1.0\n"
          ],
          "name": "stdout"
        },
        {
          "output_type": "execute_result",
          "data": {
            "text/plain": [
              "Text(0.5, 0, 'Threshold')"
            ]
          },
          "metadata": {
            "tags": []
          },
          "execution_count": 28
        },
        {
          "output_type": "display_data",
          "data": {
            "image/png": "[encoded data removed]",
            "text/plain": [
              "<Figure size 432x288 with 1 Axes>"
            ]
          },
          "metadata": {
            "tags": [],
            "needs_background": "light"
          }
        }
      ]
    },
    {
      "cell_type": "code",
      "metadata": {
        "colab": {
          "base_uri": "https://localhost:8080/"
        },
        "id": "2od6Ln5ufnd2",
        "outputId": "7eea6c77-1fa7-49ec-dc44-19d016c7673a"
      },
      "source": [
        "au_preds_t = (au_preds > 0.75) * 1\n",
        "print(f'Precision: {precision_score(au_labels, au_preds_t)}')\n",
        "print(f'Recall: {recall_score(au_labels, au_preds_t)}')"
      ],
      "execution_count": 29,
      "outputs": [
        {
          "output_type": "stream",
          "text": [
            "Precision: 1.0\n",
            "Recall: 0.8333333333333334\n"
          ],
          "name": "stdout"
        }
      ]
    },
    {
      "cell_type": "markdown",
      "metadata": {
        "id": "XQZyCBeYgQkI"
      },
      "source": [
        "### AU 14"
      ]
    },
    {
      "cell_type": "code",
      "metadata": {
        "colab": {
          "base_uri": "https://localhost:8080/",
          "height": 313
        },
        "id": "JdXa_aqCgK4r",
        "outputId": "181b87db-78bc-4e29-b819-0ca1091b7281"
      },
      "source": [
        "au_labels, au_preds = labels[:, 9], preds[:, 9]\n",
        "precisions, recalls, thresholds = precision_recall_curve(au_labels, au_preds)\n",
        "auc_precision_recall = auc(recalls, precisions)\n",
        "print(auc_precision_recall)\n",
        "plt.plot(thresholds, precisions[:-1], \"b--\", label=\"Precision\")\n",
        "plt.plot(thresholds, recalls[:-1], \"g--\", label=\"Recall\")\n",
        "plt.xlabel(\"Threshold\")"
      ],
      "execution_count": 30,
      "outputs": [
        {
          "output_type": "stream",
          "text": [
            "0.25\n"
          ],
          "name": "stdout"
        },
        {
          "output_type": "execute_result",
          "data": {
            "text/plain": [
              "Text(0.5, 0, 'Threshold')"
            ]
          },
          "metadata": {
            "tags": []
          },
          "execution_count": 30
        },
        {
          "output_type": "display_data",
          "data": {
            "image/png": "[encoded data removed]",
            "text/plain": [
              "<Figure size 432x288 with 1 Axes>"
            ]
          },
          "metadata": {
            "tags": [],
            "needs_background": "light"
          }
        }
      ]
    },
    {
      "cell_type": "code",
      "metadata": {
        "colab": {
          "base_uri": "https://localhost:8080/"
        },
        "id": "w_CmhNzBgZJg",
        "outputId": "f4e0af71-3e51-4ff3-ef5b-a25de3698c50"
      },
      "source": [
        "au_preds_t = (au_preds > 0.45) * 1\n",
        "print(f'Precision: {precision_score(au_labels, au_preds_t)}')\n",
        "print(f'Recall: {recall_score(au_labels, au_preds_t)}')"
      ],
      "execution_count": 31,
      "outputs": [
        {
          "output_type": "stream",
          "text": [
            "Precision: 0.0\n",
            "Recall: 0.0\n"
          ],
          "name": "stdout"
        },
        {
          "output_type": "stream",
          "text": [
            "/usr/local/lib/python3.6/dist-packages/sklearn/metrics/_classification.py:1272: UndefinedMetricWarning: Precision is ill-defined and being set to 0.0 due to no predicted samples. Use `zero_division` parameter to control this behavior.\n",
            "  _warn_prf(average, modifier, msg_start, len(result))\n"
          ],
          "name": "stderr"
        }
      ]
    },
    {
      "cell_type": "markdown",
      "metadata": {
        "id": "2AbxW2Pog7M6"
      },
      "source": [
        "### AU 15"
      ]
    },
    {
      "cell_type": "code",
      "metadata": {
        "colab": {
          "base_uri": "https://localhost:8080/",
          "height": 313
        },
        "id": "XLHDPXYtg9dZ",
        "outputId": "fd0a26d7-39aa-46f4-f4e1-85500d771e3d"
      },
      "source": [
        "au_labels, au_preds = labels[:, 10], preds[:, 10]\n",
        "precisions, recalls, thresholds = precision_recall_curve(au_labels, au_preds)\n",
        "auc_precision_recall = auc(recalls, precisions)\n",
        "print(auc_precision_recall)\n",
        "plt.plot(thresholds, precisions[:-1], \"b--\", label=\"Precision\")\n",
        "plt.plot(thresholds, recalls[:-1], \"g--\", label=\"Recall\")\n",
        "plt.xlabel(\"Threshold\")"
      ],
      "execution_count": 32,
      "outputs": [
        {
          "output_type": "stream",
          "text": [
            "0.8500000000000001\n"
          ],
          "name": "stdout"
        },
        {
          "output_type": "execute_result",
          "data": {
            "text/plain": [
              "Text(0.5, 0, 'Threshold')"
            ]
          },
          "metadata": {
            "tags": []
          },
          "execution_count": 32
        },
        {
          "output_type": "display_data",
          "data": {
            "image/png": "[encoded data removed]",
            "text/plain": [
              "<Figure size 432x288 with 1 Axes>"
            ]
          },
          "metadata": {
            "tags": [],
            "needs_background": "light"
          }
        }
      ]
    },
    {
      "cell_type": "code",
      "metadata": {
        "colab": {
          "base_uri": "https://localhost:8080/"
        },
        "id": "GNBTaBOQhC1z",
        "outputId": "76e8389f-d6ec-4fed-9a81-98099cad8a9a"
      },
      "source": [
        "au_preds_t = (au_preds > 0.7) * 1\n",
        "print(f'Precision: {precision_score(au_labels, au_preds_t)}')\n",
        "print(f'Recall: {recall_score(au_labels, au_preds_t)}')"
      ],
      "execution_count": 33,
      "outputs": [
        {
          "output_type": "stream",
          "text": [
            "Precision: 1.0\n",
            "Recall: 0.3333333333333333\n"
          ],
          "name": "stdout"
        }
      ]
    },
    {
      "cell_type": "markdown",
      "metadata": {
        "id": "mt2igtoQhcBs"
      },
      "source": [
        "### AU 17"
      ]
    },
    {
      "cell_type": "code",
      "metadata": {
        "colab": {
          "base_uri": "https://localhost:8080/",
          "height": 313
        },
        "id": "ivGxIMKcheOu",
        "outputId": "2c8fa51e-f911-4948-b564-1e92d8297288"
      },
      "source": [
        "au_labels, au_preds = labels[:, 11], preds[:, 11]\n",
        "precisions, recalls, thresholds = precision_recall_curve(au_labels, au_preds)\n",
        "auc_precision_recall = auc(recalls, precisions)\n",
        "print(auc_precision_recall)\n",
        "plt.plot(thresholds, precisions[:-1], \"b--\", label=\"Precision\")\n",
        "plt.plot(thresholds, recalls[:-1], \"g--\", label=\"Recall\")\n",
        "plt.xlabel(\"Threshold\")"
      ],
      "execution_count": 34,
      "outputs": [
        {
          "output_type": "stream",
          "text": [
            "0.9852430555555556\n"
          ],
          "name": "stdout"
        },
        {
          "output_type": "execute_result",
          "data": {
            "text/plain": [
              "Text(0.5, 0, 'Threshold')"
            ]
          },
          "metadata": {
            "tags": []
          },
          "execution_count": 34
        },
        {
          "output_type": "display_data",
          "data": {
            "image/png": "[encoded data removed]",
            "text/plain": [
              "<Figure size 432x288 with 1 Axes>"
            ]
          },
          "metadata": {
            "tags": [],
            "needs_background": "light"
          }
        }
      ]
    },
    {
      "cell_type": "code",
      "metadata": {
        "colab": {
          "base_uri": "https://localhost:8080/"
        },
        "id": "pzBzl8TShpP8",
        "outputId": "498cab4a-42a2-4846-907c-e0ee661d053f"
      },
      "source": [
        "au_preds_t = (au_preds > 0.65) * 1\n",
        "print(f'Precision: {precision_score(au_labels, au_preds_t)}')\n",
        "print(f'Recall: {recall_score(au_labels, au_preds_t)}')"
      ],
      "execution_count": 35,
      "outputs": [
        {
          "output_type": "stream",
          "text": [
            "Precision: 1.0\n",
            "Recall: 0.875\n"
          ],
          "name": "stdout"
        }
      ]
    },
    {
      "cell_type": "markdown",
      "metadata": {
        "id": "tFHMSgPgh-gY"
      },
      "source": [
        "### AU 20"
      ]
    },
    {
      "cell_type": "code",
      "metadata": {
        "colab": {
          "base_uri": "https://localhost:8080/",
          "height": 313
        },
        "id": "g7jqJ7D3iAl5",
        "outputId": "09496bfa-6d30-4a89-83c9-8df49ca2e8de"
      },
      "source": [
        "au_labels, au_preds = labels[:, 12], preds[:, 12]\n",
        "precisions, recalls, thresholds = precision_recall_curve(au_labels, au_preds)\n",
        "auc_precision_recall = auc(recalls, precisions)\n",
        "print(auc_precision_recall)\n",
        "plt.plot(thresholds, precisions[:-1], \"b--\", label=\"Precision\")\n",
        "plt.plot(thresholds, recalls[:-1], \"g--\", label=\"Recall\")\n",
        "plt.xlabel(\"Threshold\")"
      ],
      "execution_count": 36,
      "outputs": [
        {
          "output_type": "stream",
          "text": [
            "0.7916666666666666\n"
          ],
          "name": "stdout"
        },
        {
          "output_type": "execute_result",
          "data": {
            "text/plain": [
              "Text(0.5, 0, 'Threshold')"
            ]
          },
          "metadata": {
            "tags": []
          },
          "execution_count": 36
        },
        {
          "output_type": "display_data",
          "data": {
            "image/png": "[encoded data removed]",
            "text/plain": [
              "<Figure size 432x288 with 1 Axes>"
            ]
          },
          "metadata": {
            "tags": [],
            "needs_background": "light"
          }
        }
      ]
    },
    {
      "cell_type": "code",
      "metadata": {
        "colab": {
          "base_uri": "https://localhost:8080/"
        },
        "id": "dQuAC_88iF8t",
        "outputId": "b9a9bd31-f3b7-4f92-ef41-aa4041366060"
      },
      "source": [
        "au_preds_t = (au_preds > 0.75) * 1\n",
        "print(f'Precision: {precision_score(au_labels, au_preds_t)}')\n",
        "print(f'Recall: {recall_score(au_labels, au_preds_t)}')"
      ],
      "execution_count": 37,
      "outputs": [
        {
          "output_type": "stream",
          "text": [
            "Precision: 1.0\n",
            "Recall: 0.5\n"
          ],
          "name": "stdout"
        }
      ]
    },
    {
      "cell_type": "markdown",
      "metadata": {
        "id": "CxZL7y9OieKE"
      },
      "source": [
        "### AU 23/24"
      ]
    },
    {
      "cell_type": "code",
      "metadata": {
        "colab": {
          "base_uri": "https://localhost:8080/",
          "height": 313
        },
        "id": "JeD_LfCeih0u",
        "outputId": "d89ff3a9-fba9-4b26-d3c2-45947990beda"
      },
      "source": [
        "au_labels, au_preds = labels[:, 13], preds[:, 13]\n",
        "precisions, recalls, thresholds = precision_recall_curve(au_labels, au_preds)\n",
        "auc_precision_recall = auc(recalls, precisions)\n",
        "print(auc_precision_recall)\n",
        "plt.plot(thresholds, precisions[:-1], \"b--\", label=\"Precision\")\n",
        "plt.plot(thresholds, recalls[:-1], \"g--\", label=\"Recall\")\n",
        "plt.xlabel(\"Threshold\")"
      ],
      "execution_count": 38,
      "outputs": [
        {
          "output_type": "stream",
          "text": [
            "0.711111111111111\n"
          ],
          "name": "stdout"
        },
        {
          "output_type": "execute_result",
          "data": {
            "text/plain": [
              "Text(0.5, 0, 'Threshold')"
            ]
          },
          "metadata": {
            "tags": []
          },
          "execution_count": 38
        },
        {
          "output_type": "display_data",
          "data": {
            "image/png": "[encoded data removed]",
            "text/plain": [
              "<Figure size 432x288 with 1 Axes>"
            ]
          },
          "metadata": {
            "tags": [],
            "needs_background": "light"
          }
        }
      ]
    },
    {
      "cell_type": "code",
      "metadata": {
        "colab": {
          "base_uri": "https://localhost:8080/"
        },
        "id": "INuayc4Vizqb",
        "outputId": "d9ec7497-0cdc-4f0d-8dda-456a687fae7a"
      },
      "source": [
        "au_preds_t = (au_preds > 0.3) * 1\n",
        "print(f'Precision: {precision_score(au_labels, au_preds_t)}')\n",
        "print(f'Recall: {recall_score(au_labels, au_preds_t)}')"
      ],
      "execution_count": 39,
      "outputs": [
        {
          "output_type": "stream",
          "text": [
            "Precision: 1.0\n",
            "Recall: 0.3333333333333333\n"
          ],
          "name": "stdout"
        }
      ]
    },
    {
      "cell_type": "markdown",
      "metadata": {
        "id": "7NTL-zIvi8AJ"
      },
      "source": [
        "### AU 25"
      ]
    },
    {
      "cell_type": "code",
      "metadata": {
        "colab": {
          "base_uri": "https://localhost:8080/",
          "height": 313
        },
        "id": "f_CPb-J2jBOT",
        "outputId": "da428bf5-9c7f-4037-c7ea-479f6e8aac4a"
      },
      "source": [
        "au_labels, au_preds = labels[:, 14], preds[:, 14]\n",
        "precisions, recalls, thresholds = precision_recall_curve(au_labels, au_preds)\n",
        "auc_precision_recall = auc(recalls, precisions)\n",
        "print(auc_precision_recall)\n",
        "plt.plot(thresholds, precisions[:-1], \"b--\", label=\"Precision\")\n",
        "plt.plot(thresholds, recalls[:-1], \"g--\", label=\"Recall\")\n",
        "plt.xlabel(\"Threshold\")"
      ],
      "execution_count": 40,
      "outputs": [
        {
          "output_type": "stream",
          "text": [
            "0.9410981558270162\n"
          ],
          "name": "stdout"
        },
        {
          "output_type": "execute_result",
          "data": {
            "text/plain": [
              "Text(0.5, 0, 'Threshold')"
            ]
          },
          "metadata": {
            "tags": []
          },
          "execution_count": 40
        },
        {
          "output_type": "display_data",
          "data": {
            "image/png": "[encoded data removed]",
            "text/plain": [
              "<Figure size 432x288 with 1 Axes>"
            ]
          },
          "metadata": {
            "tags": [],
            "needs_background": "light"
          }
        }
      ]
    },
    {
      "cell_type": "code",
      "metadata": {
        "colab": {
          "base_uri": "https://localhost:8080/"
        },
        "id": "clLFzxDhjG74",
        "outputId": "58b16a3c-b95d-47a5-cadd-a7c5f691b0cd"
      },
      "source": [
        "au_preds_t = (au_preds > 0.8) * 1\n",
        "print(f'Precision: {precision_score(au_labels, au_preds_t)}')\n",
        "print(f'Recall: {recall_score(au_labels, au_preds_t)}')"
      ],
      "execution_count": 41,
      "outputs": [
        {
          "output_type": "stream",
          "text": [
            "Precision: 0.9285714285714286\n",
            "Recall: 0.8125\n"
          ],
          "name": "stdout"
        }
      ]
    },
    {
      "cell_type": "markdown",
      "metadata": {
        "id": "PN5vD4aJjU91"
      },
      "source": [
        "### AU 26/27"
      ]
    },
    {
      "cell_type": "code",
      "metadata": {
        "colab": {
          "base_uri": "https://localhost:8080/",
          "height": 313
        },
        "id": "fTZpvt-WjZoO",
        "outputId": "20d37f29-b365-420f-9011-904a4067b16a"
      },
      "source": [
        "au_labels, au_preds = labels[:, 15], preds[:, 15]\n",
        "precisions, recalls, thresholds = precision_recall_curve(au_labels, au_preds)\n",
        "auc_precision_recall = auc(recalls, precisions)\n",
        "print(auc_precision_recall)\n",
        "plt.plot(thresholds, precisions[:-1], \"b--\", label=\"Precision\")\n",
        "plt.plot(thresholds, recalls[:-1], \"g--\", label=\"Recall\")\n",
        "plt.xlabel(\"Threshold\")"
      ],
      "execution_count": 42,
      "outputs": [
        {
          "output_type": "stream",
          "text": [
            "0.8655067155067153\n"
          ],
          "name": "stdout"
        },
        {
          "output_type": "execute_result",
          "data": {
            "text/plain": [
              "Text(0.5, 0, 'Threshold')"
            ]
          },
          "metadata": {
            "tags": []
          },
          "execution_count": 42
        },
        {
          "output_type": "display_data",
          "data": {
            "image/png": "[encoded data removed]",
            "text/plain": [
              "<Figure size 432x288 with 1 Axes>"
            ]
          },
          "metadata": {
            "tags": [],
            "needs_background": "light"
          }
        }
      ]
    },
    {
      "cell_type": "code",
      "metadata": {
        "colab": {
          "base_uri": "https://localhost:8080/"
        },
        "id": "l-rbRtFFjhIo",
        "outputId": "b28e4d0a-ba51-47b0-e69d-c97704413cfe"
      },
      "source": [
        "au_preds_t = (au_preds > 0.5) * 1\n",
        "print(f'Precision: {precision_score(au_labels, au_preds_t)}')\n",
        "print(f'Recall: {recall_score(au_labels, au_preds_t)}')"
      ],
      "execution_count": 43,
      "outputs": [
        {
          "output_type": "stream",
          "text": [
            "Precision: 1.0\n",
            "Recall: 0.7142857142857143\n"
          ],
          "name": "stdout"
        }
      ]
    },
    {
      "cell_type": "markdown",
      "metadata": {
        "id": "xzjC-xbh7whN"
      },
      "source": [
        "## **Final Model Scores**"
      ]
    },
    {
      "cell_type": "code",
      "metadata": {
        "id": "45VlHkssmLp8"
      },
      "source": [
        "def get_metrics(model, data):\n",
        "  \"\"\"\n",
        "  Compute the f1 score for each action unit (AU).\n",
        "  \"\"\"\n",
        "  labels = np.array([], dtype=int).reshape(0,18)\n",
        "  preds = np.array([], dtype=int).reshape(0,18)\n",
        "  thresholds = np.array([0.9, 0.6, 0.75, 0.5, 0.5, 0.5, 0.25, 0.2, 0.75, 0.45, # New thresholds\n",
        "                          0.7, 0.65, 0.75, 0.3, 0.8, 0.5, 0.9, 0.1])\n",
        "  model.eval() # Set to evaluation mode\n",
        "  device = torch.device(\"cuda:0\" if torch.cuda.is_available() else \"cpu\")\n",
        "  model.to(device)\n",
        "\n",
        "  with torch.no_grad():\n",
        "    for _, item in enumerate(data, 0):\n",
        "      batch_labels = item.get(\"labels\")\n",
        "      labels = np.vstack([labels, batch_labels])\n",
        "      imgs = item.get(\"image\")\n",
        "      imgs = imgs.to(device)\n",
        "      outputs = model(imgs).cpu().detach()\n",
        "      outputs = torch.sigmoid(outputs).numpy()\n",
        "      preds = np.vstack([preds, outputs])\n",
        "  \n",
        "  # Compute f1 scores\n",
        "  f1_scores = []\n",
        "  pres_scores = []\n",
        "  recall_scores = []\n",
        "  pr_auc_scores = []\n",
        "  for au in range(18):\n",
        "    au_labels = labels[:, au]\n",
        "    au_preds = preds[:, au]\n",
        "    p, r, _ = precision_recall_curve(au_labels, au_preds)\n",
        "    auc_pr = auc(r, p)\n",
        "    if np.isnan(auc_pr):\n",
        "      auc_pr = 0\n",
        "    pr_auc_scores.append(auc_pr)\n",
        "\n",
        "\n",
        "    # Threshold probabilities > threshold to 1 for other metrics\n",
        "    au_preds = (au_preds > thresholds[au]) * 1\n",
        "    f1 = f1_score(au_labels, au_preds, zero_division=0); f1_scores.append(f1)\n",
        "    precision = precision_score(au_labels, au_preds, zero_division=0)\n",
        "    pres_scores.append(precision)\n",
        "    recall = recall_score(au_labels, au_preds, zero_division=0)\n",
        "    recall_scores.append(recall)\n",
        "  return pres_scores, recall_scores, f1_scores, pr_auc_scores"
      ],
      "execution_count": null,
      "outputs": []
    },
    {
      "cell_type": "code",
      "metadata": {
        "colab": {
          "base_uri": "https://localhost:8080/"
        },
        "id": "FzI47vUKmhBA",
        "outputId": "67cd21c0-0193-4a1d-b430-e024ccdb7365"
      },
      "source": [
        "convnet = get_model('/content/drive/MyDrive/training/checkpoints/final.pt')\n",
        "# Instantiate dataloader\n",
        "dataset = AUDataset(mode='test', fold=0, transform=transform)\n",
        "data = DataLoader(dataset, 32, collate_fn=collate_fn, shuffle=True, \n",
        "           num_workers=4)\n",
        "\n",
        "# Compute scores\n",
        "precision, recall, f1, roc_auc = get_metrics(convnet, data)\n",
        "for i in range(18):\n",
        "  print(f'{dataset.label_cols[i]}: precision: {precision[i]:.3f}, recall: {recall[i]:.3f}, F1: {f1[i]:.3f}, PR AUC: {roc_auc[i]:.3f}')\n",
        "print(f'mean precision: {np.mean(precision):.3f}, mean recall: {np.mean(recall):.3f}, mean F1: {np.mean(f1):.3f}, mean PR-AUC: {np.mean(roc_auc):.3f}')"
      ],
      "execution_count": null,
      "outputs": [
        {
          "output_type": "stream",
          "text": [
            "AU_1: precision: 0.867, recall: 0.867, F1: 0.867, PR AUC: 0.971\n",
            "AU_2: precision: 0.900, recall: 0.750, F1: 0.818, PR AUC: 0.874\n",
            "AU_4: precision: 0.875, recall: 0.824, F1: 0.848, PR AUC: 0.927\n",
            "AU_5: precision: 0.900, recall: 0.750, F1: 0.818, PR AUC: 0.882\n",
            "AU_6: precision: 1.000, recall: 0.600, F1: 0.750, PR AUC: 0.789\n",
            "AU_7: precision: 0.600, recall: 0.750, F1: 0.667, PR AUC: 0.723\n",
            "AU_9: precision: 1.000, recall: 0.800, F1: 0.889, PR AUC: 1.000\n",
            "AU_10: precision: 1.000, recall: 1.000, F1: 1.000, PR AUC: 1.000\n",
            "AU_12: precision: 0.875, recall: 0.700, F1: 0.778, PR AUC: 0.808\n",
            "AU_14: precision: 1.000, recall: 0.143, F1: 0.250, PR AUC: 0.690\n",
            "AU_15: precision: 0.889, recall: 0.727, F1: 0.800, PR AUC: 0.956\n",
            "AU_17: precision: 0.889, recall: 0.842, F1: 0.865, PR AUC: 0.958\n",
            "AU_20: precision: 1.000, recall: 0.750, F1: 0.857, PR AUC: 1.000\n",
            "AU_23/24: precision: 1.000, recall: 0.875, F1: 0.933, PR AUC: 0.944\n",
            "AU_25: precision: 0.923, recall: 0.889, F1: 0.906, PR AUC: 0.948\n",
            "AU_26/27: precision: 0.889, recall: 0.800, F1: 0.842, PR AUC: 0.930\n",
            "AU_28: precision: 0.000, recall: 0.000, F1: 0.000, PR AUC: 0.000\n",
            "AU_43: precision: 1.000, recall: 1.000, F1: 1.000, PR AUC: 1.000\n",
            "mean precision: 0.867, mean recall: 0.726, mean F1: 0.772, mean PR-AUC: 0.856\n"
          ],
          "name": "stdout"
        },
        {
          "output_type": "stream",
          "text": [
            "/usr/local/lib/python3.6/dist-packages/sklearn/metrics/_ranking.py:677: RuntimeWarning: invalid value encountered in true_divide\n",
            "  recall = tps / tps[-1]\n"
          ],
          "name": "stderr"
        }
      ]
    }
  ]
}