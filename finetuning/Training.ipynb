{
  "nbformat": 4,
  "nbformat_minor": 0,
  "metadata": {
    "colab": {
      "name": "Training.ipynb",
      "provenance": []
    },
    "kernelspec": {
      "name": "python3",
      "display_name": "Python 3"
    },
    "accelerator": "GPU"
  },
  "cells": [
    {
      "cell_type": "code",
      "metadata": {
        "id": "yF7uczVVAo6X"
      },
      "source": [
        "import os\n",
        "import sys\n",
        "from google.colab import drive\n",
        "from google.colab.patches import cv2_imshow\n",
        "import matplotlib.pyplot as plt\n",
        "import numpy as np\n",
        "import cv2\n",
        "import pandas as pd\n",
        "import dlib\n",
        "from scipy import ndimage\n",
        "import tarfile\n",
        "from PIL import Image\n",
        "import torch\n",
        "from torch.utils.data import Dataset, DataLoader\n",
        "import torch.nn as nn\n",
        "import torch.nn.functional as F\n",
        "import torch.optim as optim\n",
        "import torchvision"
      ],
      "execution_count": 1,
      "outputs": []
    },
    {
      "cell_type": "code",
      "metadata": {
        "colab": {
          "base_uri": "https://localhost:8080/"
        },
        "id": "V9gzJRZICnc5",
        "outputId": "25a6976d-69fd-49f0-874f-8cfe206d4cc0"
      },
      "source": [
        "from google.colab import drive\n",
        "drive.mount('/content/drive')"
      ],
      "execution_count": 2,
      "outputs": [
        {
          "output_type": "stream",
          "text": [
            "Drive already mounted at /content/drive; to attempt to forcibly remount, call drive.mount(\"/content/drive\", force_remount=True).\n"
          ],
          "name": "stdout"
        }
      ]
    },
    {
      "cell_type": "code",
      "metadata": {
        "colab": {
          "base_uri": "https://localhost:8080/"
        },
        "id": "0MndTlmgI6lG",
        "outputId": "209cf899-1c4d-4e6b-b256-ef81bd0a82ad"
      },
      "source": [
        "%mkdir -p /content/data/\n",
        "%cd /content/data\n",
        "\n",
        "train_path = '/content/drive/My Drive/training/training.tar'\n",
        "val_path = '/content/drive/My Drive/training/validation.tar'\n",
        "test_path = '/content/drive/My Drive/training/test.tar'\n",
        "\n",
        "# Load training set and validation set\n",
        "for fpath in [train_path, val_path, test_path]:\n",
        "  print('Extracting {}...'.format(fpath.split('/')[-1]))\n",
        "  with tarfile.open(fpath) as tar:\n",
        "    tar.extractall()"
      ],
      "execution_count": 2,
      "outputs": [
        {
          "output_type": "stream",
          "text": [
            "/content/data\n",
            "Extracting training.tar...\n",
            "Extracting validation.tar...\n",
            "Extracting test.tar...\n"
          ],
          "name": "stdout"
        }
      ]
    },
    {
      "cell_type": "markdown",
      "metadata": {
        "id": "2oYqWgOlYyo_"
      },
      "source": [
        "## **Image Preprocessing**"
      ]
    },
    {
      "cell_type": "code",
      "metadata": {
        "id": "FSTUdbf0DR47"
      },
      "source": [
        "import os\n",
        "\n",
        "import cv2\n",
        "import dlib\n",
        "import numpy as np\n",
        "from PIL import Image\n",
        "\n",
        "\n",
        "class align_faces(object):\n",
        "\n",
        "    def __call__(self, image):\n",
        "\n",
        "        # Since the images are loaded it PIL\n",
        "        image = np.asarray(image)\n",
        "\n",
        "        # The percentage value of how far in the picture the left eye should be\n",
        "        LEFT_EYE_CORD = (0.25, 0.2)\n",
        "        DIMENSIONS = 244\n",
        "\n",
        "        train_folder = '/content/drive/My Drive/training/'\n",
        "        predictor_path = os.path.join(train_folder, \"shape_predictor_5_face_landmarks.dat\")\n",
        "        detector_path = os.path.join(train_folder, \"mmod_human_face_detector.dat\")\n",
        "        shape_predictor = dlib.shape_predictor(predictor_path)\n",
        "        face_detector = dlib.get_frontal_face_detector()\n",
        "\n",
        "        # changed here for efficiency\n",
        "        # face_detector = dlib.cnn_face_detection_model_v1(detector_path)\n",
        "        faces = face_detector(image)\n",
        "\n",
        "        if not faces:\n",
        "            raise ValueError(\"Image has no detectable faces\")\n",
        "\n",
        "        # assumption is made that there is only one\n",
        "        for face in faces:\n",
        "          # face = face_rect.rect\n",
        "          landmarks = shape_predictor(image, face)\n",
        "          landmarks = landmarks.parts()\n",
        "          landmarks = self.convert_to_np(landmarks)\n",
        "\n",
        "          # To Gauge Scale\n",
        "          maximum = np.max(landmarks, axis=0)\n",
        "          minimum = np.min(landmarks, axis=0)\n",
        "\n",
        "          # eye landmarks\n",
        "          right = landmarks[:2]\n",
        "          left = landmarks[2:4]\n",
        "\n",
        "          left = np.mean(left, axis=0, dtype=np.int)\n",
        "          right = np.mean(right, axis=0, dtype=np.int)\n",
        "\n",
        "          centre = np.vstack((left, right))\n",
        "          centre = np.mean(centre, axis=0, dtype=np.int)\n",
        "\n",
        "          diff = right - left\n",
        "          diff = diff.reshape((2, 1))\n",
        "\n",
        "          angle = np.degrees(np.arctan2(diff[1], diff[0]))\n",
        "\n",
        "          # find the length of the face, and use that for our scale\n",
        "          y_scale = maximum[1] - minimum[1]\n",
        "          y_scale = y_scale + 2.1 * y_scale\n",
        "\n",
        "          M = cv2.getRotationMatrix2D((centre[0], centre[1]), angle, DIMENSIONS / y_scale)\n",
        "\n",
        "          # update translation\n",
        "          t_x = DIMENSIONS // 2\n",
        "          t_y = DIMENSIONS * LEFT_EYE_CORD[1]\n",
        "          M[0, 2] += (t_x - centre[0])\n",
        "          M[1, 2] += (t_y - centre[1])\n",
        "\n",
        "          image2 = cv2.warpAffine(image, M, (DIMENSIONS, DIMENSIONS),\n",
        "                                  flags=cv2.INTER_CUBIC)\n",
        "\n",
        "          # convert back to PIL\n",
        "          return Image.fromarray(image2)\n",
        "\n",
        "    @staticmethod\n",
        "    def convert_to_np(points):\n",
        "        np_points = np.array([], dtype=np.int)\n",
        "        while points:\n",
        "            point = points.pop()\n",
        "            np_points = np.append(np_points, (point.x, point.y))\n",
        "\n",
        "        np_points = np_points.reshape((-1, 2))\n",
        "        np_points = np.flip(np_points, axis=0)\n",
        "        return np_points"
      ],
      "execution_count": 3,
      "outputs": []
    },
    {
      "cell_type": "code",
      "metadata": {
        "id": "VYTxdiBcZFNU"
      },
      "source": [
        "transform = torchvision.transforms.Compose(\n",
        "    [align_faces(),\n",
        "     torchvision.transforms.ToTensor(),\n",
        "     torchvision.transforms.Normalize((0.3898, 0.3884, 0.3878), (0.2433, 0.2430, 0.2430))\n",
        "     ]\n",
        ")"
      ],
      "execution_count": 4,
      "outputs": []
    },
    {
      "cell_type": "markdown",
      "metadata": {
        "id": "kxeiZUHuY3w5"
      },
      "source": [
        "## **Dataset Creation**"
      ]
    },
    {
      "cell_type": "code",
      "metadata": {
        "id": "WVcwvecULX-W"
      },
      "source": [
        "class AUDataset(Dataset):\n",
        "  \"\"\" CK+ dataset labeled by the presence of action units (AU) \"\"\"\n",
        "  \n",
        "  def __init__(self, mode='train', fold=0, transform=None):\n",
        "    \"\"\"\n",
        "    Args:\n",
        "      - label_csv: Path to the csv file with action unit labels.\n",
        "      - mode: one of 'train', 'validate' and 'test'\n",
        "      - fold: one of 0, 1, and 2; determines which folds to use for training\n",
        "      - transform: transform applied to an image input\n",
        "    \"\"\"\n",
        "    try:\n",
        "      path_dict = {\n",
        "          'train': 'training/train_data_',\n",
        "          'validate': 'validation/valid_data_',\n",
        "          'test': 'test/test_data'\n",
        "      }\n",
        "      self.data_path = '{}{}'.format(path_dict[mode], fold)\n",
        "      self.label_path = '{}{}_labels.csv'.format(path_dict[mode], fold)\n",
        "    except KeyError:\n",
        "      raise ValueError('{} is not a valid mode. Choose train, validation, or test.'.format(mode))\n",
        "    self.au_frame = pd.read_csv(self.label_path)\n",
        "    self.label_cols = ['AU_1', 'AU_2', 'AU_4', 'AU_5', 'AU_6', 'AU_7', \n",
        "                        'AU_9', 'AU_10', 'AU_12', 'AU_14', 'AU_15', 'AU_17',\n",
        "                        'AU_20', 'AU_23/24', 'AU_25', 'AU_26/27', 'AU_28',\n",
        "                        'AU_43']\n",
        "    self.grayscale = torchvision.transforms.Grayscale(num_output_channels=3)\n",
        "    self.transform = transform\n",
        "    \n",
        "\n",
        "  def __len__(self):\n",
        "    return len(self.au_frame)\n",
        "\n",
        "  def __getitem__(self, idx):\n",
        "    # Get image at idx\n",
        "    image_id = self.au_frame.iloc[idx]['path']\n",
        "    image_path = self.data_path + '/' + image_id\n",
        "    image = cv2.imread(image_path)\n",
        "    image = Image.fromarray(image)\n",
        "\n",
        "    # Get AU labels\n",
        "    aus = self.au_frame.iloc[idx][self.label_cols]\n",
        "    aus = np.array(aus, dtype=float)\n",
        "\n",
        "    if self.transform:\n",
        "      try:\n",
        "        if int(self.au_frame.iloc[idx]['subject'].split('_')[-1]) > 138:\n",
        "          image = self.grayscale(image)\n",
        "        image = self.transform(image)\n",
        "      except ValueError: # No faces were detected\n",
        "        return None\n",
        "\n",
        "    sample = {'image': image, 'labels': aus}\n",
        "\n",
        "    return sample"
      ],
      "execution_count": 5,
      "outputs": []
    },
    {
      "cell_type": "markdown",
      "metadata": {
        "id": "Wbw5INxOZBN2"
      },
      "source": [
        "## **Other Useful Functions**"
      ]
    },
    {
      "cell_type": "code",
      "metadata": {
        "id": "KAv2Ad3_Ye_H"
      },
      "source": [
        "def collate_fn(batch):\n",
        "    \"\"\"\n",
        "    Used to process the list of samples to form a batch. Ignores images\n",
        "    where no faces were detected.\n",
        "    \"\"\"\n",
        "    batch = list(filter(lambda x: x is not None, batch))\n",
        "    return torch.utils.data.dataloader.default_collate(batch)\n",
        "\n",
        "def imshow(img):\n",
        "    img = img / 2 + 0.5  # unnormalize\n",
        "    npimg = img.numpy()\n",
        "    plt.imshow(np.transpose(npimg, (1, 2, 0)), cmap=\"gray\")\n",
        "    plt.show()"
      ],
      "execution_count": 6,
      "outputs": []
    },
    {
      "cell_type": "code",
      "metadata": {
        "colab": {
          "base_uri": "https://localhost:8080/",
          "height": 236
        },
        "id": "Baho29Iscqiz",
        "outputId": "8096020c-64e8-4bf0-9294-818fe4a2e711"
      },
      "source": [
        "train_set = AUDataset(mode='train', fold=0, transform=transform)\n",
        "train_loader = DataLoader(train_set, batch_size=32, collate_fn=collate_fn, \n",
        "                        shuffle=True)\n",
        "\n",
        "dataiter = iter(train_loader)\n",
        "batch = dataiter.next()\n",
        "imshow(torchvision.utils.make_grid(batch['image']))"
      ],
      "execution_count": 28,
      "outputs": [
        {
          "output_type": "stream",
          "text": [
            "Clipping input data to the valid range for imshow with RGB data ([0..1] for floats or [0..255] for integers).\n"
          ],
          "name": "stderr"
        },
        {
          "output_type": "display_data",
          "data": {
            "image/png": "[encoded data removed]",
            "text/plain": [
              "<Figure size 432x288 with 1 Axes>"
            ]
          },
          "metadata": {
            "tags": [],
            "needs_background": "light"
          }
        }
      ]
    },
    {
      "cell_type": "markdown",
      "metadata": {
        "id": "Q9-AEzC7w6Zz"
      },
      "source": [
        "## **Training Loop**"
      ]
    },
    {
      "cell_type": "code",
      "metadata": {
        "id": "XCMgxKR0w5xI"
      },
      "source": [
        "import copy\n",
        "import time\n",
        "\n",
        "import torchvision\n",
        "from scipy.io.idl import AttrDict\n",
        "from torchvision import datasets, models, transforms\n",
        "from torch.utils.data import Dataset, DataLoader\n",
        "import torch\n",
        "import numpy as np\n",
        "\n",
        "\n",
        "def validation_step(convnet, val_loader, criterion, bs):\n",
        "  num_matches = 0.0\n",
        "  total = 0.0\n",
        "  losses = []\n",
        "  device = torch.device(\"cuda:0\" if torch.cuda.is_available() else \"cpu\")\n",
        "\n",
        "  with torch.no_grad():\n",
        "      for _, item in enumerate(val_loader, 0):\n",
        "\n",
        "          labels = item.get(\"labels\")\n",
        "          imgs = item.get(\"image\")\n",
        "          labels = labels.to(device)\n",
        "          imgs = imgs.to(device)\n",
        "\n",
        "          outputs = convnet(imgs)\n",
        "\n",
        "          # Compute batch loss\n",
        "          val_loss = criterion(outputs, labels)\n",
        "          losses.append(val_loss.data.item())\n",
        "\n",
        "          # Compute batch accuracy, set probabilities > 0.5 to 1\n",
        "          t = torch.Tensor([0.5])\n",
        "          t = t.to(device)\n",
        "          num_matches += ((torch.nn.functional.sigmoid(outputs) > t) == labels).sum()\n",
        "\n",
        "          total += labels.size(0) * 18\n",
        "\n",
        "  val_loss = np.mean(losses)\n",
        "  val_acc = 100 * num_matches / total\n",
        "  return val_loss, val_acc\n",
        "\n",
        "\n",
        "def train(convnet, args):\n",
        "  \"\"\"Training loop for a single validation fold.\"\"\"\n",
        "  train_losses = []\n",
        "  valid_losses = []\n",
        "  valid_accs = []\n",
        "  best_loss = -100 \n",
        "  start = time.time()\n",
        "\n",
        "  device = torch.device(\"cuda:0\" if torch.cuda.is_available() else \"cpu\")\n",
        "\n",
        "  best_model_wts = copy.deepcopy(convnet.state_dict())\n",
        "\n",
        "  train_set = AUDataset(mode='train', fold=args.fold, transform=args.transform)\n",
        "  train_loader = DataLoader(train_set, args.batch_size, collate_fn=collate_fn,\n",
        "                            shuffle=True, num_workers=args.num_workers)\n",
        "  \n",
        "  val_set = AUDataset(mode='validate', fold=args.fold, transform=args.transform)\n",
        "  val_loader = DataLoader(val_set, args.batch_size, collate_fn=collate_fn,\n",
        "                          shuffle=True, num_workers=args.num_workers)\n",
        "\n",
        "  optimizer = torch.optim.Adam(convnet.parameters(), args.learn_rate)\n",
        "  criterion = torch.nn.BCEWithLogitsLoss()\n",
        "\n",
        "  if args.resume: \n",
        "    print(\"Loading checkpoint\")\n",
        "    state = torch.load(args.checkpoint)\n",
        "    convnet.load_state_dict(state['model_state_dict'])\n",
        "    optimizer.load_state_dict(state['optimizer_state_dict'])\n",
        "\n",
        "\n",
        "  for epoch in range(args.epochs):\n",
        "      convnet.train()\n",
        "      losses = []\n",
        "\n",
        "      for _, item in enumerate(train_loader, 0):\n",
        "          \n",
        "          labels = item.get(\"labels\")\n",
        "          imgs = item.get(\"image\")\n",
        "\n",
        "          labels = labels.to(device)\n",
        "          imgs = imgs.to(device)\n",
        "\n",
        "          optimizer.zero_grad()\n",
        "\n",
        "          outputs = convnet(imgs)\n",
        "          loss = criterion(outputs, labels)\n",
        "          loss.backward()\n",
        "          optimizer.step()\n",
        "          losses.append(loss.data.item())\n",
        "\n",
        "\n",
        "      avg_loss = np.mean(losses)\n",
        "      train_losses.append(avg_loss)\n",
        "      time_elapsed = time.time() - start\n",
        "\n",
        "      print('Epoch [%d/%d], Loss: %.4f, Time (s): %d' % (\n",
        "          epoch + 1, args.epochs, avg_loss, time_elapsed))\n",
        "      \n",
        "      # Validation \n",
        "      convnet.eval()\n",
        "      val_loss, val_acc = validation_step(convnet, val_loader, criterion,\n",
        "                                          args.batch_size)\n",
        "      time_elapsed = time.time() - start\n",
        "      valid_losses.append(val_loss)\n",
        "      valid_accs.append(val_acc)\n",
        "\n",
        "      print('Epoch [%d/%d], Val Loss: %.4f, Val Acc: %.1f%%, Time(s): %.2f' % (\n",
        "          epoch + 1, args.epochs, val_loss, val_acc, time_elapsed))\n",
        "\n",
        "      # Save model\n",
        "      if -val_loss >= best_loss:\n",
        "        print(\"Best Loss: Saving Model\")\n",
        "        best_loss = -val_loss\n",
        "        checkpoint = {\n",
        "              'model_state_dict': convnet.state_dict(),\n",
        "              'optimizer_state_dict': optimizer.state_dict(),\n",
        "              'train_losses': train_losses,\n",
        "              'valid_losses': valid_losses,\n",
        "              'best_val_loss': best_loss\n",
        "          }\n",
        "        torch.save(checkpoint, args.checkpoint)\n",
        "\n",
        "\n",
        "def match_state_dict(state_dict):\n",
        "  \"\"\"\n",
        "  Renames 'fc.0' to 'fc.1' and 'fc.2' to 'fc.3' in order to load pretrained\n",
        "  model weights to new model.\n",
        "  \"\"\"\n",
        "  new_sd = copy.deepcopy(state_dict)\n",
        "  for key in state_dict:\n",
        "    if 'fc' in key:\n",
        "      layer, num, weight = key.split('.')\n",
        "      if int(num) == 0:\n",
        "        new_sd['{}.1.{}'.format(layer, weight)] = new_sd.pop(key)\n",
        "      elif int(num) == 2:\n",
        "        new_sd['{}.3.{}'.format(layer, weight)] = new_sd.pop(key)\n",
        "  return new_sd\n",
        "\n",
        "def get_model():\n",
        "  \"\"\"\n",
        "  Returns a model that has already been pretrained on the CelebA dataset.\n",
        "  \"\"\"\n",
        "  model = models.resnet18(pretrained=True)\n",
        "  num = model.fc.in_features\n",
        "  fc = torch.nn.Sequential(\n",
        "      torch.nn.LeakyReLU(),\n",
        "      torch.nn.Linear(512, 256), \n",
        "      torch.nn.LeakyReLU(),\n",
        "      torch.nn.Linear(256, 18))\n",
        "  \n",
        "  model.fc = fc\n",
        "  device = torch.device(\"cuda:0\" if torch.cuda.is_available() else \"cpu\")\n",
        "  last_cp = torch.load('/content/drive/My Drive/training/876.pt')\n",
        "  model_state_dict = match_state_dict(last_cp['model_state_dict'])\n",
        "  model.load_state_dict(model_state_dict)\n",
        "\n",
        "  # Freeze feature map layers\n",
        "  for name, param in model.named_parameters():\n",
        "    if 'fc' in name:\n",
        "      param.requires_grad = True\n",
        "    else:\n",
        "      param.requires_grad = False\n",
        "  model = model.to(device)\n",
        "  return model"
      ],
      "execution_count": 15,
      "outputs": []
    },
    {
      "cell_type": "markdown",
      "metadata": {
        "id": "WhST8QBB649v"
      },
      "source": [
        "## **First Fold**: Unfreeze only FC layers"
      ]
    },
    {
      "cell_type": "code",
      "metadata": {
        "colab": {
          "base_uri": "https://localhost:8080/"
        },
        "id": "wFB0UDS5zYnK",
        "outputId": "e526f420-a594-4c22-b98a-95cc5c9e8ae6"
      },
      "source": [
        "args = AttrDict()\n",
        "args_dict = {\n",
        "    'gpu': True,\n",
        "    'transform': transform,\n",
        "    'fold': 0,\n",
        "    'checkpoint': '/content/drive/MyDrive/training/checkpoints/checkpoint0.pt',\n",
        "    'learn_rate': 0.0001,\n",
        "    'batch_size': 32,\n",
        "    'epochs': 12,\n",
        "    'num_workers': 4,\n",
        "    'resume': False \n",
        "}\n",
        "\n",
        "args.update(args_dict)\n",
        "train(convnet=get_model(), args=args)"
      ],
      "execution_count": 16,
      "outputs": [
        {
          "output_type": "stream",
          "text": [
            "Epoch [1/12], Loss: 0.6319, Time (s): 160\n"
          ],
          "name": "stdout"
        },
        {
          "output_type": "stream",
          "text": [
            "/usr/local/lib/python3.6/dist-packages/torch/nn/functional.py:1639: UserWarning: nn.functional.sigmoid is deprecated. Use torch.sigmoid instead.\n",
            "  warnings.warn(\"nn.functional.sigmoid is deprecated. Use torch.sigmoid instead.\")\n"
          ],
          "name": "stderr"
        },
        {
          "output_type": "stream",
          "text": [
            "Epoch [1/12], Val Loss: 0.4515, Val Acc: 84.1%, Time(s): 240.67\n",
            "Best Loss: Saving Model\n",
            "Epoch [2/12], Loss: 0.3817, Time (s): 398\n",
            "Epoch [2/12], Val Loss: 0.3413, Val Acc: 87.9%, Time(s): 479.79\n",
            "Best Loss: Saving Model\n",
            "Epoch [3/12], Loss: 0.2854, Time (s): 637\n",
            "Epoch [3/12], Val Loss: 0.2839, Val Acc: 90.0%, Time(s): 718.73\n",
            "Best Loss: Saving Model\n",
            "Epoch [4/12], Loss: 0.2475, Time (s): 876\n",
            "Epoch [4/12], Val Loss: 0.2650, Val Acc: 90.7%, Time(s): 957.69\n",
            "Best Loss: Saving Model\n",
            "Epoch [5/12], Loss: 0.2373, Time (s): 1116\n",
            "Epoch [5/12], Val Loss: 0.2492, Val Acc: 91.1%, Time(s): 1196.60\n",
            "Best Loss: Saving Model\n",
            "Epoch [6/12], Loss: 0.2277, Time (s): 1354\n",
            "Epoch [6/12], Val Loss: 0.2430, Val Acc: 91.4%, Time(s): 1435.35\n",
            "Best Loss: Saving Model\n",
            "Epoch [7/12], Loss: 0.2176, Time (s): 1593\n",
            "Epoch [7/12], Val Loss: 0.2418, Val Acc: 91.5%, Time(s): 1674.15\n",
            "Best Loss: Saving Model\n",
            "Epoch [8/12], Loss: 0.2132, Time (s): 1831\n",
            "Epoch [8/12], Val Loss: 0.2347, Val Acc: 91.6%, Time(s): 1911.49\n",
            "Best Loss: Saving Model\n",
            "Epoch [9/12], Loss: 0.2157, Time (s): 2069\n",
            "Epoch [9/12], Val Loss: 0.2301, Val Acc: 91.8%, Time(s): 2149.19\n",
            "Best Loss: Saving Model\n",
            "Epoch [10/12], Loss: 0.2134, Time (s): 2306\n",
            "Epoch [10/12], Val Loss: 0.2246, Val Acc: 92.1%, Time(s): 2387.22\n",
            "Best Loss: Saving Model\n",
            "Epoch [11/12], Loss: 0.2047, Time (s): 2544\n",
            "Epoch [11/12], Val Loss: 0.2207, Val Acc: 92.2%, Time(s): 2625.59\n",
            "Best Loss: Saving Model\n",
            "Epoch [12/12], Loss: 0.2047, Time (s): 2783\n",
            "Epoch [12/12], Val Loss: 0.2214, Val Acc: 92.2%, Time(s): 2864.23\n"
          ],
          "name": "stdout"
        }
      ]
    },
    {
      "cell_type": "markdown",
      "metadata": {
        "id": "spzz6rVw7DQr"
      },
      "source": [
        "## **Second Fold**: Unfreeze FC layers and last residual block"
      ]
    },
    {
      "cell_type": "code",
      "metadata": {
        "id": "QCUGuJxefO2S"
      },
      "source": [
        "def get_model():\n",
        "  \"\"\"\n",
        "  Returns a model that has already been pretrained on the CelebA dataset.\n",
        "  \"\"\"\n",
        "  model = models.resnet18(pretrained=True)\n",
        "  num = model.fc.in_features\n",
        "  fc = torch.nn.Sequential(\n",
        "      torch.nn.LeakyReLU(),\n",
        "      torch.nn.Linear(512, 256), \n",
        "      torch.nn.LeakyReLU(),\n",
        "      torch.nn.Linear(256, 18))\n",
        "  \n",
        "  model.fc = fc\n",
        "  device = torch.device(\"cuda:0\" if torch.cuda.is_available() else \"cpu\")\n",
        "  last_cp = torch.load('/content/drive/My Drive/training/876.pt')\n",
        "  model_state_dict = match_state_dict(last_cp['model_state_dict'])\n",
        "  model.load_state_dict(model_state_dict)\n",
        "\n",
        "  # Freeze feature map layers\n",
        "  for name, param in model.named_parameters():\n",
        "    if ('fc' in name) or ('layer4' in name):\n",
        "      param.requires_grad = True\n",
        "    else:\n",
        "      param.requires_grad = False\n",
        "  model = model.to(device)\n",
        "  return model"
      ],
      "execution_count": 20,
      "outputs": []
    },
    {
      "cell_type": "code",
      "metadata": {
        "colab": {
          "base_uri": "https://localhost:8080/"
        },
        "id": "sd2kpju1fqpS",
        "outputId": "d494e768-c9ce-4f3d-e79c-34cae61efbe1"
      },
      "source": [
        "args = AttrDict()\n",
        "args_dict = {\n",
        "    'gpu': True,\n",
        "    'transform': transform,\n",
        "    'fold': 1,\n",
        "    'checkpoint': '/content/drive/MyDrive/training/checkpoints/checkpoint1.pt',\n",
        "    'learn_rate': 0.0001,\n",
        "    'batch_size': 32,\n",
        "    'epochs': 12,\n",
        "    'num_workers': 4,\n",
        "    'resume': False \n",
        "}\n",
        "\n",
        "args.update(args_dict)\n",
        "train(convnet=get_model(), args=args)"
      ],
      "execution_count": 21,
      "outputs": [
        {
          "output_type": "stream",
          "text": [
            "Epoch [1/12], Loss: 0.4989, Time (s): 162\n"
          ],
          "name": "stdout"
        },
        {
          "output_type": "stream",
          "text": [
            "/usr/local/lib/python3.6/dist-packages/torch/nn/functional.py:1639: UserWarning: nn.functional.sigmoid is deprecated. Use torch.sigmoid instead.\n",
            "  warnings.warn(\"nn.functional.sigmoid is deprecated. Use torch.sigmoid instead.\")\n"
          ],
          "name": "stderr"
        },
        {
          "output_type": "stream",
          "text": [
            "Epoch [1/12], Val Loss: 0.2248, Val Acc: 91.5%, Time(s): 236.37\n",
            "Best Loss: Saving Model\n",
            "Epoch [2/12], Loss: 0.1791, Time (s): 398\n",
            "Epoch [2/12], Val Loss: 0.1931, Val Acc: 93.0%, Time(s): 472.29\n",
            "Best Loss: Saving Model\n",
            "Epoch [3/12], Loss: 0.1317, Time (s): 632\n",
            "Epoch [3/12], Val Loss: 0.1794, Val Acc: 93.2%, Time(s): 705.14\n",
            "Best Loss: Saving Model\n",
            "Epoch [4/12], Loss: 0.1067, Time (s): 865\n",
            "Epoch [4/12], Val Loss: 0.1773, Val Acc: 93.7%, Time(s): 938.69\n",
            "Best Loss: Saving Model\n",
            "Epoch [5/12], Loss: 0.0885, Time (s): 1099\n",
            "Epoch [5/12], Val Loss: 0.1672, Val Acc: 93.6%, Time(s): 1171.59\n",
            "Best Loss: Saving Model\n",
            "Epoch [6/12], Loss: 0.0733, Time (s): 1332\n",
            "Epoch [6/12], Val Loss: 0.1695, Val Acc: 93.4%, Time(s): 1404.84\n",
            "Epoch [7/12], Loss: 0.0640, Time (s): 1565\n",
            "Epoch [7/12], Val Loss: 0.1730, Val Acc: 93.8%, Time(s): 1637.54\n",
            "Epoch [8/12], Loss: 0.0492, Time (s): 1797\n",
            "Epoch [8/12], Val Loss: 0.1699, Val Acc: 93.6%, Time(s): 1870.32\n",
            "Epoch [9/12], Loss: 0.0394, Time (s): 2029\n",
            "Epoch [9/12], Val Loss: 0.1744, Val Acc: 93.6%, Time(s): 2102.68\n",
            "Epoch [10/12], Loss: 0.0317, Time (s): 2262\n",
            "Epoch [10/12], Val Loss: 0.1736, Val Acc: 93.8%, Time(s): 2334.47\n",
            "Epoch [11/12], Loss: 0.0284, Time (s): 2494\n",
            "Epoch [11/12], Val Loss: 0.1703, Val Acc: 93.8%, Time(s): 2566.94\n",
            "Epoch [12/12], Loss: 0.0238, Time (s): 2726\n",
            "Epoch [12/12], Val Loss: 0.1823, Val Acc: 93.8%, Time(s): 2798.70\n"
          ],
          "name": "stdout"
        }
      ]
    },
    {
      "cell_type": "markdown",
      "metadata": {
        "id": "zq5rtOUz7MgH"
      },
      "source": [
        "## **Third Fold**: Unfreeze FC layers and last two residual blocks"
      ]
    },
    {
      "cell_type": "code",
      "metadata": {
        "id": "kg11lBMcrT7G"
      },
      "source": [
        "def get_model():\n",
        "  \"\"\"\n",
        "  Returns a model that has already been pretrained on the CelebA dataset.\n",
        "  \"\"\"\n",
        "  model = models.resnet18(pretrained=True)\n",
        "  num = model.fc.in_features\n",
        "  fc = torch.nn.Sequential(\n",
        "      torch.nn.LeakyReLU(),\n",
        "      torch.nn.Linear(512, 256), \n",
        "      torch.nn.LeakyReLU(),\n",
        "      torch.nn.Linear(256, 18))\n",
        "  \n",
        "  model.fc = fc\n",
        "  device = torch.device(\"cuda:0\" if torch.cuda.is_available() else \"cpu\")\n",
        "  last_cp = torch.load('/content/drive/My Drive/training/876.pt')\n",
        "  model_state_dict = match_state_dict(last_cp['model_state_dict'])\n",
        "  model.load_state_dict(model_state_dict)\n",
        "\n",
        "  # Freeze feature map layers\n",
        "  for name, param in model.named_parameters():\n",
        "    if ('fc' in name) or ('layer4' in name) or ('layer3' in name):\n",
        "      param.requires_grad = True\n",
        "    else:\n",
        "      param.requires_grad = False\n",
        "  model = model.to(device)\n",
        "  return model"
      ],
      "execution_count": 22,
      "outputs": []
    },
    {
      "cell_type": "code",
      "metadata": {
        "colab": {
          "base_uri": "https://localhost:8080/"
        },
        "id": "Vr0jzcQn2zch",
        "outputId": "8f860edf-b1d8-42e3-c197-5407417e95b5"
      },
      "source": [
        "args = AttrDict()\n",
        "args_dict = {\n",
        "    'gpu': True,\n",
        "    'transform': transform,\n",
        "    'fold': 2,\n",
        "    'checkpoint': '/content/drive/MyDrive/training/checkpoints/checkpoint2.pt',\n",
        "    'learn_rate': 0.0001,\n",
        "    'batch_size': 32,\n",
        "    'epochs': 12,\n",
        "    'num_workers': 4,\n",
        "    'resume': False \n",
        "}\n",
        "\n",
        "args.update(args_dict)\n",
        "train(convnet=get_model(), args=args)"
      ],
      "execution_count": 23,
      "outputs": [
        {
          "output_type": "stream",
          "text": [
            "Epoch [1/12], Loss: 0.5113, Time (s): 153\n"
          ],
          "name": "stdout"
        },
        {
          "output_type": "stream",
          "text": [
            "/usr/local/lib/python3.6/dist-packages/torch/nn/functional.py:1639: UserWarning: nn.functional.sigmoid is deprecated. Use torch.sigmoid instead.\n",
            "  warnings.warn(\"nn.functional.sigmoid is deprecated. Use torch.sigmoid instead.\")\n"
          ],
          "name": "stderr"
        },
        {
          "output_type": "stream",
          "text": [
            "Epoch [1/12], Val Loss: 0.2080, Val Acc: 92.3%, Time(s): 234.70\n",
            "Best Loss: Saving Model\n",
            "Epoch [2/12], Loss: 0.1860, Time (s): 389\n",
            "Epoch [2/12], Val Loss: 0.1660, Val Acc: 93.9%, Time(s): 469.67\n",
            "Best Loss: Saving Model\n",
            "Epoch [3/12], Loss: 0.1270, Time (s): 624\n",
            "Epoch [3/12], Val Loss: 0.1618, Val Acc: 94.0%, Time(s): 705.23\n",
            "Best Loss: Saving Model\n",
            "Epoch [4/12], Loss: 0.0962, Time (s): 860\n",
            "Epoch [4/12], Val Loss: 0.1586, Val Acc: 94.4%, Time(s): 940.68\n",
            "Best Loss: Saving Model\n",
            "Epoch [5/12], Loss: 0.0753, Time (s): 1095\n",
            "Epoch [5/12], Val Loss: 0.1563, Val Acc: 94.2%, Time(s): 1176.00\n",
            "Best Loss: Saving Model\n",
            "Epoch [6/12], Loss: 0.0629, Time (s): 1330\n",
            "Epoch [6/12], Val Loss: 0.1504, Val Acc: 94.3%, Time(s): 1410.93\n",
            "Best Loss: Saving Model\n",
            "Epoch [7/12], Loss: 0.0484, Time (s): 1565\n",
            "Epoch [7/12], Val Loss: 0.1532, Val Acc: 94.3%, Time(s): 1645.97\n",
            "Epoch [8/12], Loss: 0.0422, Time (s): 1799\n",
            "Epoch [8/12], Val Loss: 0.1544, Val Acc: 94.0%, Time(s): 1879.58\n",
            "Epoch [9/12], Loss: 0.0377, Time (s): 2033\n",
            "Epoch [9/12], Val Loss: 0.1537, Val Acc: 94.1%, Time(s): 2114.06\n",
            "Epoch [10/12], Loss: 0.0268, Time (s): 2267\n",
            "Epoch [10/12], Val Loss: 0.1600, Val Acc: 93.9%, Time(s): 2347.73\n",
            "Epoch [11/12], Loss: 0.0233, Time (s): 2501\n",
            "Epoch [11/12], Val Loss: 0.1577, Val Acc: 94.2%, Time(s): 2581.28\n",
            "Epoch [12/12], Loss: 0.0224, Time (s): 2734\n",
            "Epoch [12/12], Val Loss: 0.1601, Val Acc: 94.1%, Time(s): 2814.62\n"
          ],
          "name": "stdout"
        }
      ]
    },
    {
      "cell_type": "code",
      "metadata": {
        "id": "wAJSRvxerYcG"
      },
      "source": [
        "from sklearn.metrics import f1_score\n",
        "\n",
        "def get_metrics(model, data):\n",
        "  \"\"\"\n",
        "  Compute the f1 score for each action unit (AU).\n",
        "  \"\"\"\n",
        "  labels = np.array([], dtype=int).reshape(0,18)\n",
        "  preds = np.array([], dtype=int).reshape(0,18)\n",
        "  model.eval() # Set to evaluation mode\n",
        "  device = torch.device(\"cuda:0\" if torch.cuda.is_available() else \"cpu\")\n",
        "  model.to(device)\n",
        "\n",
        "  with torch.no_grad():\n",
        "    for _, item in enumerate(data, 0):\n",
        "      batch_labels = item.get(\"labels\")\n",
        "      labels = np.vstack([labels, batch_labels])\n",
        "      imgs = item.get(\"image\")\n",
        "      imgs = imgs.to(device)\n",
        "\n",
        "      outputs = model(imgs).cpu().detach()\n",
        "\n",
        "      # Compute batch accuracy, set probabilities > 0.5 to 1\n",
        "      outputs = torch.nn.functional.sigmoid(outputs).numpy() > 0.5\n",
        "      preds = np.vstack([preds, outputs])\n",
        "  \n",
        "  # Compute f1 scores\n",
        "  scores = []\n",
        "  for au in range(18):\n",
        "    au_labels = labels[:, au]\n",
        "    au_preds = preds[:, au]\n",
        "    f1 = f1_score(au_labels, au_preds)\n",
        "    scores.append(f1)\n",
        "  return scores\n"
      ],
      "execution_count": null,
      "outputs": []
    }
  ]
}